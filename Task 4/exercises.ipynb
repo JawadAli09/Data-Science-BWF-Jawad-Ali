{
 "cells": [
  {
   "cell_type": "markdown",
   "metadata": {},
   "source": [
    "Try It Yourself\n",
    "Write a separate program to accomplish each of these exercises. Save \n",
    "each program with a filename that follows standard Python conventions, \n",
    "using lowercase letters and underscores, such as simple_message.py and \n",
    "simple_messages.py.\n",
    "\n",
    "2-1. Simple Message: Store a message in a variable, and then print that \n",
    "message.\n",
    "\n",
    "2-2. Simple Messages: Store a message in a variable, and print that message.\n",
    "Then change the value of your variable to a new message, and print the new \n",
    "message"
   ]
  },
  {
   "cell_type": "code",
   "execution_count": 4,
   "metadata": {},
   "outputs": [
    {
     "name": "stdout",
     "output_type": "stream",
     "text": [
      "this is the exercise number 2.1\n"
     ]
    }
   ],
   "source": [
    "#i will keep the both exercises in the same file to keep the program simple\n",
    "\n",
    "# Exercise 2.1\n",
    "\n",
    "Simple_Message = \"this is the exercise number 2.1\"\n",
    "print(Simple_Message)"
   ]
  },
  {
   "cell_type": "code",
   "execution_count": 5,
   "metadata": {},
   "outputs": [
    {
     "name": "stdout",
     "output_type": "stream",
     "text": [
      "this is the exercise number 2.1\n",
      "this is new compeletely text\n"
     ]
    }
   ],
   "source": [
    "#Exercise 2.2\n",
    "\n",
    "Simple_Messages = \"this is exercise number 2.2\"\n",
    "print(Simple_Message)\n",
    "\n",
    "Simple_Message=\"this is new compeletely text\"\n",
    "print(Simple_Message)"
   ]
  },
  {
   "cell_type": "markdown",
   "metadata": {},
   "source": [
    "Try It Yourself\n",
    "\n",
    "Save each of the following exercises as a separate file with a name like \n",
    "name_cases.py. If you get stuck, take a break or see the suggestions in \n",
    "Appendix C.\n",
    "\n",
    "2-3. Personal Message: Store a person’s name in a variable, and print a message to that person. Your message should be simple, such as, “Hello Eric, \n",
    "would you like to learn some Python today?”\n",
    "\n",
    "2-4. Name Cases: Store a person’s name in a variable, and then print that person’s name in lowercase, uppercase, and titlecase.\n",
    "\n",
    "2-5. Famous Quote: Find a quote from a famous person you admire. Print the \n",
    "quote and the name of its author. Your output should look something like the \n",
    "following, including the quotation marks:\n",
    "Albert Einstein once said, “A person who never made a \n",
    "mistake never tried anything new.”\n",
    "\n",
    "2-6. Famous Quote 2: Repeat Exercise 2-5, but this time store the famous person’s name in a variable called famous_person. Then compose your message \n",
    "and store it in a new variable called message. Print your message.\n",
    "\n",
    "2-7. Stripping Names: Store a person’s name, and include some whitespace \n",
    "characters at the beginning and end of the name. Make sure you use each \n",
    "character combination, \"\\t\" and \"\\n\", at least once.\n",
    "Print the name once, so the whitespace around the name is displayed.\n",
    "Then print the name using each of the three stripping functions, lstrip(), \n",
    "rstrip(), and strip()."
   ]
  },
  {
   "cell_type": "code",
   "execution_count": 6,
   "metadata": {},
   "outputs": [
    {
     "name": "stdout",
     "output_type": "stream",
     "text": [
      "“Hello Eric, would you like to learn some Python today?\n"
     ]
    }
   ],
   "source": [
    "#Exercise 2.3\n",
    "\n",
    "person_name = \"“Hello Eric, would you like to learn some Python today?\"\n",
    "print(person_name)"
   ]
  },
  {
   "cell_type": "code",
   "execution_count": 7,
   "metadata": {},
   "outputs": [
    {
     "name": "stdout",
     "output_type": "stream",
     "text": [
      "abraham benjamin de villiers\n",
      "ABRAHAM BENJAMIN DE VILLIERS\n",
      "Abraham Benjamin De Villiers\n"
     ]
    }
   ],
   "source": [
    "# Exercise 2.4 \n",
    "person_name=\"Abraham benjamin de villiers\"\n",
    "print(person_name.lower())\n",
    "print(person_name.upper())\n",
    "print(person_name.title())"
   ]
  },
  {
   "cell_type": "code",
   "execution_count": 10,
   "metadata": {},
   "outputs": [
    {
     "name": "stdout",
     "output_type": "stream",
     "text": [
      "Audrey Hepburn once said, \"Nothing is impossible, the word itself says ‘I’m possible.”\n"
     ]
    }
   ],
   "source": [
    "# Exercise 2.5 \n",
    "famous_qoute='Audrey Hepburn once said, \"Nothing is impossible, the word itself says ‘I’m possible.”'\n",
    "print(famous_qoute)"
   ]
  },
  {
   "cell_type": "code",
   "execution_count": 11,
   "metadata": {},
   "outputs": [
    {
     "name": "stdout",
     "output_type": "stream",
     "text": [
      "Audrey Hepburn once said, \"Nothing is impossible, the word itself says ‘I’m possible.”\n"
     ]
    }
   ],
   "source": [
    "# Exercise 2.6\n",
    "famous_person = \"Audrey Hepburn\"\n",
    "message = famous_person + ' once said, \"Nothing is impossible, the word itself says ‘I’m possible.”'\n",
    "print(message)\n"
   ]
  },
  {
   "cell_type": "code",
   "execution_count": 17,
   "metadata": {},
   "outputs": [
    {
     "name": "stdout",
     "output_type": "stream",
     "text": [
      "\t\n",
      "  John Doe  \t\n",
      "\n",
      "John Doe  \t\n",
      "\n",
      "\t\n",
      "  John Doe\n",
      "John Doe\n"
     ]
    }
   ],
   "source": [
    "# Exercise 2.7\n",
    "name = \"\\t\\n  John Doe  \\t\\n\"\n",
    "\n",
    "print(name)\n",
    "\n",
    "print(name.lstrip())\n",
    "\n",
    "print(name.rstrip())\n",
    "\n",
    "print(name.strip())\n",
    "\n"
   ]
  },
  {
   "cell_type": "markdown",
   "metadata": {},
   "source": [
    "Try It Yourself\n",
    "\n",
    "\n",
    "2-8. Number Eight: Write addition, subtraction, multiplication, and division \n",
    "operations that each result in the number 8. Be sure to enclose your operations \n",
    "in print statements to see the results. You should create four lines that look \n",
    "like this:\n",
    "print(5 + 3)\n",
    "Your output should simply be four lines with the number 8 appearing once \n",
    "on each line.\n",
    "\n",
    "\n",
    "2-9. Favorite Number: Store your favorite number in a variable. Then, using \n",
    "that variable, create a message that reveals your favorite number. Print that \n",
    "message."
   ]
  },
  {
   "cell_type": "code",
   "execution_count": 19,
   "metadata": {},
   "outputs": [
    {
     "name": "stdout",
     "output_type": "stream",
     "text": [
      "8\n",
      "8\n",
      "8\n",
      "8.0\n"
     ]
    }
   ],
   "source": [
    "# Exercise 2.8\n",
    "print(5 + 3)  # Output: 8\n",
    "print(16 - 8)  # Output: 8\n",
    "print(4 * 2)  # Output: 8\n",
    "print(32 / 4)  # Output: 8\n"
   ]
  },
  {
   "cell_type": "code",
   "execution_count": 20,
   "metadata": {},
   "outputs": [
    {
     "name": "stdout",
     "output_type": "stream",
     "text": [
      "My favorite number is 7\n"
     ]
    }
   ],
   "source": [
    "# Exercise 2.9\n",
    "favorite_number = 7\n",
    "\n",
    "message = \"My favorite number is \" + str(favorite_number)\n",
    "print(message)  \n"
   ]
  },
  {
   "cell_type": "markdown",
   "metadata": {},
   "source": [
    "Try It Yourself\n",
    "\n",
    "\n",
    "5-1. Conditional Tests: Write a series of conditional tests. Print a statement \n",
    "describing each test and your prediction for the results of each test. Your code \n",
    "should look something like this:\n",
    "\n",
    "\n",
    "car = 'subaru'\n",
    "print(\"Is car == 'subaru'? I predict True.\")\n",
    "print(car == 'subaru')\n",
    "print(\"\\nIs car == 'audi'? I predict False.\")\n",
    "print(car == 'audi')\n",
    "\n",
    "\n",
    "•\t Look closely at your results, and make sure you understand why each line \n",
    "evaluates to True or False.\n",
    "\n",
    "•\t Create at least 10 tests. Have at least 5 tests evaluate to True and another \n",
    "5 tests evaluate to False.\n",
    "\n",
    "\n",
    "5-2. More Conditional Tests: You don’t have to limit the number of tests you \n",
    "create to 10. If you want to try more comparisons, write more tests and add \n",
    "them to conditional_tests.py. Have at least one True and one False result for \n",
    "each of the following:\n",
    "\n",
    "•\t Tests for equality and inequality with strings\n",
    "\n",
    "•\t Tests using the lower() function\n",
    "\n",
    "•\t Numerical tests involving equality and inequality, greater than and \n",
    "less than, greater than or equal to, and less than or equal to\n",
    "\n",
    "•\t Tests using the and keyword and the or keyword\n",
    "\n",
    "•\t Test whether an item is in a list\n",
    "\n",
    "•\t Test whether an item is not in a lis"
   ]
  },
  {
   "cell_type": "code",
   "execution_count": 21,
   "metadata": {},
   "outputs": [
    {
     "name": "stdout",
     "output_type": "stream",
     "text": [
      "Is car == 'subaru'? I predict True.\n",
      "True\n",
      "\n",
      "Is car == 'audi'? I predict False.\n",
      "False\n",
      "\n",
      "Is car != 'audi'? I predict True.\n",
      "True\n",
      "\n",
      "Is car.lower() == 'subaru'? I predict True.\n",
      "True\n",
      "\n",
      "Is car.upper() == 'SUBARU'? I predict True.\n",
      "True\n",
      "\n",
      "Is car == 'Subaru'? I predict False.\n",
      "False\n",
      "\n",
      "Is car.lower() == 'audi'? I predict False.\n",
      "False\n",
      "\n",
      "Is car.upper() == 'BMW'? I predict False.\n",
      "False\n",
      "\n",
      "Is car != 'subaru'? I predict False.\n",
      "False\n",
      "\n",
      "Is car != 'Subaru'? I predict True.\n",
      "True\n"
     ]
    }
   ],
   "source": [
    "# Exercise 5.1\n",
    "car = 'subaru'\n",
    "print(\"Is car == 'subaru'? I predict True.\")\n",
    "print(car == 'subaru')  # True\n",
    "\n",
    "print(\"\\nIs car == 'audi'? I predict False.\")\n",
    "print(car == 'audi')  # False\n",
    "\n",
    "# Additional tests\n",
    "print(\"\\nIs car != 'audi'? I predict True.\")\n",
    "print(car != 'audi')  # True\n",
    "\n",
    "print(\"\\nIs car.lower() == 'subaru'? I predict True.\")\n",
    "print(car.lower() == 'subaru')  # True\n",
    "\n",
    "print(\"\\nIs car.upper() == 'SUBARU'? I predict True.\")\n",
    "print(car.upper() == 'SUBARU')  # True\n",
    "\n",
    "print(\"\\nIs car == 'Subaru'? I predict False.\")\n",
    "print(car == 'Subaru')  # False\n",
    "\n",
    "print(\"\\nIs car.lower() == 'audi'? I predict False.\")\n",
    "print(car.lower() == 'audi')  # False\n",
    "\n",
    "print(\"\\nIs car.upper() == 'BMW'? I predict False.\")\n",
    "print(car.upper() == 'BMW')  # False\n",
    "\n",
    "print(\"\\nIs car != 'subaru'? I predict False.\")\n",
    "print(car != 'subaru')  # False\n",
    "\n",
    "print(\"\\nIs car != 'Subaru'? I predict True.\")\n",
    "print(car != 'Subaru')  # True\n"
   ]
  },
  {
   "cell_type": "code",
   "execution_count": 27,
   "metadata": {},
   "outputs": [
    {
     "name": "stdout",
     "output_type": "stream",
     "text": [
      "Is string1 == string2? I predict False.\n",
      "False\n",
      "Is string1.lower() == string2? I predict True.\n",
      "True\n",
      "Is number == 10? I predict True.\n",
      "True\n",
      "Is number != 10? I predict False.\n",
      "False\n",
      "Is number > 5? I predict True.\n",
      "True\n",
      "Is number < 5? I predict False.\n",
      "False\n",
      "Is number >= 10? I predict True.\n",
      "True\n",
      "Is number <= 10? I predict True.\n",
      "True\n"
     ]
    }
   ],
   "source": [
    "#exercise 5.2\n",
    "# Tests for equality and inequality with strings\n",
    "string1 = 'Hello'\n",
    "string2 = 'hello'\n",
    "print(\"Is string1 == string2? I predict False.\")\n",
    "print(string1 == string2)  # False\n",
    "\n",
    "print(\"Is string1.lower() == string2? I predict True.\")\n",
    "print(string1.lower() == string2)  # True\n",
    "\n",
    "# Numerical tests involving equality and inequality, greater than and less than, greater than or equal to, and less than or equal to\n",
    "number = 10\n",
    "print(\"Is number == 10? I predict True.\")\n",
    "print(number == 10)  # True\n",
    "\n",
    "print(\"Is number != 10? I predict False.\")\n",
    "print(number != 10)  # False\n",
    "\n",
    "print(\"Is number > 5? I predict True.\")\n",
    "print(number > 5)  # True\n",
    "\n",
    "print(\"Is number < 5? I predict False.\")\n",
    "print(number < 5)  # False\n",
    "\n",
    "print(\"Is number >= 10? I predict True.\")\n",
    "print(number >= 10)  # True\n",
    "\n",
    "print(\"Is number <= 10? I predict True.\")\n",
    "print(number <= 10)  # True\n",
    "\n",
    "\n",
    "\n"
   ]
  },
  {
   "cell_type": "code",
   "execution_count": 25,
   "metadata": {},
   "outputs": [
    {
     "name": "stdout",
     "output_type": "stream",
     "text": [
      "Is age_0 > 20 and age_1 > 20? I predict True.\n",
      "True\n",
      "Is age_0 > 20 and age_1 < 20? I predict False.\n",
      "False\n",
      "Is age_0 > 20 or age_1 < 20? I predict True.\n",
      "True\n",
      "Is age_0 < 20 or age_1 < 20? I predict False.\n",
      "False\n"
     ]
    }
   ],
   "source": [
    "# Tests using the and keyword and the or keyword\n",
    "age_0 = 25\n",
    "age_1 = 30\n",
    "print(\"Is age_0 > 20 and age_1 > 20? I predict True.\")\n",
    "print(age_0 > 20 and age_1 > 20)  # True\n",
    "\n",
    "print(\"Is age_0 > 20 and age_1 < 20? I predict False.\")\n",
    "print(age_0 > 20 and age_1 < 20)  # False\n",
    "\n",
    "print(\"Is age_0 > 20 or age_1 < 20? I predict True.\")\n",
    "print(age_0 > 20 or age_1 < 20)  # True\n",
    "\n",
    "print(\"Is age_0 < 20 or age_1 < 20? I predict False.\")\n",
    "print(age_0 < 20 or age_1 < 20)  # False"
   ]
  },
  {
   "cell_type": "code",
   "execution_count": 26,
   "metadata": {},
   "outputs": [
    {
     "name": "stdout",
     "output_type": "stream",
     "text": [
      "Is 'banana' in fruits? I predict True.\n",
      "True\n",
      "Is 'orange' in fruits? I predict False.\n",
      "False\n",
      "Is user not in banned_users? I predict True.\n",
      "True\n",
      "Is user not in banned_users? I predict False.\n",
      "False\n"
     ]
    }
   ],
   "source": [
    "# Test whether an item is in a list\n",
    "fruits = ['apple', 'banana', 'cherry']\n",
    "print(\"Is 'banana' in fruits? I predict True.\")\n",
    "print('banana' in fruits)  # True\n",
    "\n",
    "print(\"Is 'orange' in fruits? I predict False.\")\n",
    "print('orange' in fruits)  # False\n",
    "\n",
    "# Test whether an item is not in a list\n",
    "banned_users = ['andrew', 'carolina', 'david']\n",
    "user = 'marie'\n",
    "print(\"Is user not in banned_users? I predict True.\")\n",
    "print(user not in banned_users)  # True\n",
    "\n",
    "user = 'david'\n",
    "print(\"Is user not in banned_users? I predict False.\")\n",
    "print(user not in banned_users)  # False\n"
   ]
  },
  {
   "cell_type": "code",
   "execution_count": 28,
   "metadata": {},
   "outputs": [
    {
     "name": "stdout",
     "output_type": "stream",
     "text": [
      "You just earned 5 points!\n"
     ]
    }
   ],
   "source": [
    "# Exercise 5.3\n",
    "alien_color = 'green'\n",
    "\n",
    "if alien_color == 'green':\n",
    "  print(\"You just earned 5 points!\")\n",
    "\n",
    "\n",
    "alien_color = 'red'\n",
    "\n",
    "if alien_color == 'green':\n",
    "  print(\"You just earned 5 points!\")  \n"
   ]
  },
  {
   "cell_type": "code",
   "execution_count": 31,
   "metadata": {},
   "outputs": [
    {
     "name": "stdout",
     "output_type": "stream",
     "text": [
      "You just earned 5 points for shooting the alien.\n",
      "You just earned 10 points.\n"
     ]
    }
   ],
   "source": [
    "# Exercise 5.4\n",
    "alien_color = 'green'\n",
    "\n",
    "if alien_color == 'green':\n",
    "  print(\"You just earned 5 points for shooting the alien.\")\n",
    "else:\n",
    "  print(\"You just earned 10 points.\")\n",
    "\n",
    "alien_color = 'yellow'\n",
    "\n",
    "if alien_color == 'green':\n",
    "  print(\"You just earned 5 points for shooting the alien.\")\n",
    "else:\n",
    "  print(\"You just earned 10 points.\") "
   ]
  },
  {
   "cell_type": "code",
   "execution_count": 32,
   "metadata": {},
   "outputs": [
    {
     "name": "stdout",
     "output_type": "stream",
     "text": [
      "You just earned 10 points.\n",
      "You just earned 5 points.\n"
     ]
    }
   ],
   "source": [
    "# Exercise 5.5\n",
    "alien_color = 'yellow'\n",
    "\n",
    "if alien_color == 'green':\n",
    "  print(\"You just earned 5 points.\")\n",
    "elif alien_color == 'yellow':\n",
    "  print(\"You just earned 10 points.\")\n",
    "else:\n",
    "  print(\"You just earned 15 points.\")\n",
    "\n",
    "alien_color = 'green'\n",
    "\n",
    "\n",
    "if alien_color == 'green':\n",
    "  print(\"You just earned 5 points.\")\n",
    "elif alien_color == 'yellow':\n",
    "  print(\"You just earned 10 points.\")\n",
    "else:\n",
    "  print(\"You just earned 15 points.\")\n"
   ]
  },
  {
   "cell_type": "code",
   "execution_count": 1,
   "metadata": {},
   "outputs": [
    {
     "name": "stdout",
     "output_type": "stream",
     "text": [
      "The person is an adult.\n"
     ]
    }
   ],
   "source": [
    "# Exercise 5.6. Stages of Life\n",
    "age = 30\n",
    "\n",
    "if age < 2:\n",
    "  print(\"The person is a baby.\")\n",
    "elif age < 4:\n",
    "  print(\"The person is a toddler.\")\n",
    "elif age < 13:\n",
    "  print(\"The person is a kid.\")\n",
    "elif age < 20:\n",
    "  print(\"The person is a teenager.\")\n",
    "elif age < 65:\n",
    "  print(\"The person is an adult.\")\n",
    "else:\n",
    "  print(\"The person is an elder.\")\n"
   ]
  },
  {
   "cell_type": "code",
   "execution_count": null,
   "metadata": {},
   "outputs": [],
   "source": []
  }
 ],
 "metadata": {
  "kernelspec": {
   "display_name": "Python 3",
   "language": "python",
   "name": "python3"
  },
  "language_info": {
   "codemirror_mode": {
    "name": "ipython",
    "version": 3
   },
   "file_extension": ".py",
   "mimetype": "text/x-python",
   "name": "python",
   "nbconvert_exporter": "python",
   "pygments_lexer": "ipython3",
   "version": "3.12.1"
  }
 },
 "nbformat": 4,
 "nbformat_minor": 2
}
