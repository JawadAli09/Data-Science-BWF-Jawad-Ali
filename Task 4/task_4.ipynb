{
 "cells": [
  {
   "cell_type": "markdown",
   "metadata": {},
   "source": [
    "variable and simple data types"
   ]
  },
  {
   "cell_type": "code",
   "execution_count": 2,
   "metadata": {},
   "outputs": [
    {
     "name": "stdout",
     "output_type": "stream",
     "text": [
      "Hello Python World!\n"
     ]
    }
   ],
   "source": [
    "print(\"Hello Python World!\")"
   ]
  },
  {
   "cell_type": "markdown",
   "metadata": {},
   "source": [
    "Variables"
   ]
  },
  {
   "cell_type": "code",
   "execution_count": 4,
   "metadata": {},
   "outputs": [
    {
     "name": "stdout",
     "output_type": "stream",
     "text": [
      "Hello Python world!\n"
     ]
    }
   ],
   "source": [
    "message=\"Hello Python world!\"\n",
    "print(message)"
   ]
  },
  {
   "cell_type": "code",
   "execution_count": 5,
   "metadata": {},
   "outputs": [
    {
     "name": "stdout",
     "output_type": "stream",
     "text": [
      "Hello Python Crash Course world!\n"
     ]
    }
   ],
   "source": [
    "#we can change the value of variable at anytime\n",
    "message = \"Hello Python Crash Course world!\"\n",
    "print(message)"
   ]
  },
  {
   "cell_type": "markdown",
   "metadata": {},
   "source": [
    "Naming and Using Variables\n"
   ]
  },
  {
   "cell_type": "code",
   "execution_count": 8,
   "metadata": {},
   "outputs": [
    {
     "name": "stdout",
     "output_type": "stream",
     "text": [
      "i am declairing variabe with valid name\n",
      "hey iam variable start with underscore\n"
     ]
    }
   ],
   "source": [
    "\"\"\"Variable names can contain only letters, numbers, and underscores. \n",
    "They can start with a letter or an underscore, but not with a number.\"\"\"\n",
    "\n",
    "message_1=\"i am declairing variabe with valid name\"\n",
    "print(message_1)\n",
    "\n",
    "#start with underscore\n",
    "_message=\"hey iam variable start with underscore\"\n",
    "print(_message)"
   ]
  },
  {
   "cell_type": "code",
   "execution_count": 9,
   "metadata": {},
   "outputs": [
    {
     "ename": "SyntaxError",
     "evalue": "invalid decimal literal (2057223701.py, line 2)",
     "output_type": "error",
     "traceback": [
      "\u001b[1;36m  Cell \u001b[1;32mIn[9], line 2\u001b[1;36m\u001b[0m\n\u001b[1;33m    1_message=\"i will causes error\"\u001b[0m\n\u001b[1;37m     ^\u001b[0m\n\u001b[1;31mSyntaxError\u001b[0m\u001b[1;31m:\u001b[0m invalid decimal literal\n"
     ]
    }
   ],
   "source": [
    "#this variable will cause error becuase start with number\n",
    "1_message=\"i will causes error because i started with number\"\n",
    "print(1_message)"
   ]
  },
  {
   "cell_type": "code",
   "execution_count": 10,
   "metadata": {},
   "outputs": [
    {
     "ename": "SyntaxError",
     "evalue": "invalid syntax (2615495892.py, line 2)",
     "output_type": "error",
     "traceback": [
      "\u001b[1;36m  Cell \u001b[1;32mIn[10], line 2\u001b[1;36m\u001b[0m\n\u001b[1;33m    message variable=\"spaced variable\"\u001b[0m\n\u001b[1;37m            ^\u001b[0m\n\u001b[1;31mSyntaxError\u001b[0m\u001b[1;31m:\u001b[0m invalid syntax\n"
     ]
    }
   ],
   "source": [
    "# Spaces are not allowed in variable names and also not allow to use python keywords\n",
    "message variable=\"spaced variable\"\n",
    "print(message variable)"
   ]
  },
  {
   "cell_type": "code",
   "execution_count": null,
   "metadata": {},
   "outputs": [],
   "source": [
    "\"\"\"Variable names should be short but descriptive. For example, name is \n",
    "better than n, student_name is better than s_n, and name_length is better \n",
    "than length_of_persons_name.\"\"\"\n",
    "\n",
    "#descriptive and self explanatory name\n",
    "student_name=\"jawad ali\"             \n",
    "print(student_name)\n",
    "\n",
    " #not descriptive \n",
    "s_n =\"jawad ali\"\n",
    "print(s_n)                          "
   ]
  },
  {
   "cell_type": "code",
   "execution_count": 12,
   "metadata": {},
   "outputs": [
    {
     "name": "stdout",
     "output_type": "stream",
     "text": [
      "Name with capital letter variable\n",
      "name with lower variable\n"
     ]
    }
   ],
   "source": [
    "\"\"\"Be careful when using the lowercase letter l and the uppercase letter O\n",
    "because they could be confused with the numbers 1 and 0. NAME and name \n",
    "will be consider different variables\"\"\"\n",
    "\n",
    "NAME=\"Name with capital letter variable\"\n",
    "\n",
    "name=\"name with lower variable\"\n",
    "\n",
    "print(NAME)\n",
    "print(name)"
   ]
  },
  {
   "cell_type": "markdown",
   "metadata": {},
   "source": [
    "STRINGS"
   ]
  },
  {
   "cell_type": "markdown",
   "metadata": {},
   "source": [
    " string is simply a series of characters. Anything inside quotes is con\u0002sidered a string in Python, and you can use single or double quotes around "
   ]
  },
  {
   "cell_type": "code",
   "execution_count": 1,
   "metadata": {},
   "outputs": [
    {
     "data": {
      "text/plain": [
       "\"One of Python's strengths is its diverse and supportive community.\""
      ]
     },
     "execution_count": 1,
     "metadata": {},
     "output_type": "execute_result"
    }
   ],
   "source": [
    "\"this is a string.\"\n",
    "'this is also a string.'\n",
    "\n",
    "# This flexibility allows you to use quotes and apostrophes within your strings:\n",
    "'I told my friend, \"Python is my favorite language!\"'\n",
    "\"The language 'Python' is named after Monty Python, not the snake.\"\n",
    "\"One of Python's strengths is its diverse and supportive community.\""
   ]
  },
  {
   "cell_type": "markdown",
   "metadata": {},
   "source": [
    "Changing Case in a String with Methods"
   ]
  },
  {
   "cell_type": "code",
   "execution_count": 2,
   "metadata": {},
   "outputs": [
    {
     "name": "stdout",
     "output_type": "stream",
     "text": [
      "Ada Lovelace\n"
     ]
    }
   ],
   "source": [
    "#.title() method\n",
    "name=\"ada lovelace\"\n",
    "print(name.title())"
   ]
  },
  {
   "cell_type": "code",
   "execution_count": 3,
   "metadata": {},
   "outputs": [
    {
     "name": "stdout",
     "output_type": "stream",
     "text": [
      "ada lovelace\n",
      "ADA LOVELACE\n"
     ]
    }
   ],
   "source": [
    "#changing string to upper and lower case \n",
    "#.upper() and .lower()\n",
    "name=\"Ada Lovelace\"\n",
    "\n",
    "print(name.lower())\n",
    "print(name.upper())\n"
   ]
  },
  {
   "cell_type": "code",
   "execution_count": 7,
   "metadata": {},
   "outputs": [
    {
     "name": "stdout",
     "output_type": "stream",
     "text": [
      "ada lovelace\n",
      "hi, Ada Lovelace!\n",
      "hi, Ada Lovelace!\n"
     ]
    }
   ],
   "source": [
    "#Concatinating Strings\n",
    "first_name= \"ada\"\n",
    "last_name= \"lovelace\"\n",
    "\n",
    "full_name=first_name+\" \"+last_name\n",
    "\n",
    "print(full_name)\n",
    "\n",
    "print(\"hi, \" + full_name.title() + \"!\")\n",
    "\n",
    "#store the message in another variable\n",
    "message=\"hi, \" + full_name.title() + \"!\"\n",
    "print(message)"
   ]
  },
  {
   "cell_type": "code",
   "execution_count": 9,
   "metadata": {},
   "outputs": [
    {
     "name": "stdout",
     "output_type": "stream",
     "text": [
      "Python\n",
      "\tPython\n"
     ]
    }
   ],
   "source": [
    "#Adding Whitespace to Strings with Tabs or Newlines\n",
    "\n",
    "print(\"Python\")\n",
    "\n",
    "#add white space\n",
    "print(\"\\tPython\")"
   ]
  },
  {
   "cell_type": "code",
   "execution_count": 11,
   "metadata": {},
   "outputs": [
    {
     "name": "stdout",
     "output_type": "stream",
     "text": [
      "Languages:\n",
      "Python\n",
      "C\n",
      "JavaScript\n"
     ]
    }
   ],
   "source": [
    "#adding newlines\n",
    "print(\"Languages:\\nPython\\nC\\nJavaScript\")\n"
   ]
  },
  {
   "cell_type": "code",
   "execution_count": 12,
   "metadata": {},
   "outputs": [
    {
     "name": "stdout",
     "output_type": "stream",
     "text": [
      "Languages:\n",
      "\tPython\n",
      "\tC\n",
      "\tJavaScript\n"
     ]
    }
   ],
   "source": [
    "#combination of \\n and \\t\n",
    "print(\"Languages:\\n\\tPython\\n\\tC\\n\\tJavaScript\") "
   ]
  },
  {
   "cell_type": "code",
   "execution_count": 17,
   "metadata": {},
   "outputs": [
    {
     "data": {
      "text/plain": [
       "'python '"
      ]
     },
     "execution_count": 17,
     "metadata": {},
     "output_type": "execute_result"
    }
   ],
   "source": [
    "#eliminate white spaces\n",
    "#eliminate white space from right \n",
    "# .rstrip()\n",
    "\n",
    "language = \"python \"\n",
    "language\n"
   ]
  },
  {
   "cell_type": "code",
   "execution_count": 18,
   "metadata": {},
   "outputs": [
    {
     "data": {
      "text/plain": [
       "'python'"
      ]
     },
     "execution_count": 18,
     "metadata": {},
     "output_type": "execute_result"
    }
   ],
   "source": [
    "language.rstrip()"
   ]
  },
  {
   "cell_type": "code",
   "execution_count": 19,
   "metadata": {},
   "outputs": [
    {
     "data": {
      "text/plain": [
       "' java and python'"
      ]
     },
     "execution_count": 19,
     "metadata": {},
     "output_type": "execute_result"
    }
   ],
   "source": [
    "#eliminate white space from left \n",
    "# .lstrip()\n",
    "\n",
    "new_language = \" java and python\"\n",
    "\n",
    "new_language"
   ]
  },
  {
   "cell_type": "code",
   "execution_count": 21,
   "metadata": {},
   "outputs": [
    {
     "data": {
      "text/plain": [
       "'java and python'"
      ]
     },
     "execution_count": 21,
     "metadata": {},
     "output_type": "execute_result"
    }
   ],
   "source": [
    "new_language.lstrip()"
   ]
  },
  {
   "cell_type": "code",
   "execution_count": 22,
   "metadata": {},
   "outputs": [
    {
     "data": {
      "text/plain": [
       "'java and python'"
      ]
     },
     "execution_count": 22,
     "metadata": {},
     "output_type": "execute_result"
    }
   ],
   "source": [
    "#eliminate white space from both sides\n",
    "# .strip()\n",
    "\n",
    "new_language = \"  java and python  \"\n",
    "new_language.strip()"
   ]
  },
  {
   "cell_type": "code",
   "execution_count": null,
   "metadata": {},
   "outputs": [],
   "source": [
    "#Avoiding Syntax Errors with Strings\n",
    "# use of apostrophe appear inside double qoutes\n",
    "\n",
    "message = \"One of Python's strengths is its diverse community.\" \n",
    "print(message)"
   ]
  },
  {
   "cell_type": "code",
   "execution_count": 23,
   "metadata": {},
   "outputs": [
    {
     "ename": "SyntaxError",
     "evalue": "unterminated string literal (detected at line 2) (1492382672.py, line 2)",
     "output_type": "error",
     "traceback": [
      "\u001b[1;36m  Cell \u001b[1;32mIn[23], line 2\u001b[1;36m\u001b[0m\n\u001b[1;33m    message = 'One of Python's strengths is its diverse community.'\u001b[0m\n\u001b[1;37m                                                                  ^\u001b[0m\n\u001b[1;31mSyntaxError\u001b[0m\u001b[1;31m:\u001b[0m unterminated string literal (detected at line 2)\n"
     ]
    }
   ],
   "source": [
    "#this will cause an error\n",
    "message = 'One of Python's strengths is its diverse community.'\n",
    "print(message)"
   ]
  },
  {
   "cell_type": "markdown",
   "metadata": {},
   "source": [
    "integers"
   ]
  },
  {
   "cell_type": "code",
   "execution_count": 2,
   "metadata": {},
   "outputs": [
    {
     "name": "stdout",
     "output_type": "stream",
     "text": [
      "Addition\n",
      "5\n",
      "Subtraction\n",
      "1\n",
      "Multiplication\n",
      "6\n",
      "Division (returns a float)\n",
      "1.5\n",
      "Exponentiation\n",
      "9\n",
      "27\n",
      "1000000\n",
      "Order of operations\n",
      "14\n",
      "20\n"
     ]
    }
   ],
   "source": [
    "\n",
    "print(\"Addition\")\n",
    "print(2 + 3) \n",
    "\n",
    "print(\"Subtraction\")\n",
    "print(3 - 2)  \n",
    "\n",
    "\n",
    "print(\"Multiplication\")\n",
    "print(2 * 3) \n",
    "\n",
    "# \n",
    "print(\"Division (returns a float)\")\n",
    "print(3 / 2)  \n",
    "\n",
    "print(\"Exponentiation\")\n",
    "print(3 ** 2)  \n",
    "print(3 ** 3)  \n",
    "print(10 ** 6)  \n",
    "\n",
    "print(\"Order of operations\")\n",
    "print(2 + 3 * 4)  \n",
    "print((2 + 3) * 4)  \n",
    "\n"
   ]
  },
  {
   "cell_type": "markdown",
   "metadata": {},
   "source": [
    "Floats:"
   ]
  },
  {
   "cell_type": "code",
   "execution_count": 3,
   "metadata": {},
   "outputs": [
    {
     "name": "stdout",
     "output_type": "stream",
     "text": [
      "Addition and subtraction\n",
      "0.2\n",
      "0.4\n",
      "Multiplication\n",
      "0.2\n",
      "0.4\n",
      "Beware of extra decimal places (common in most languages)\n",
      "0.30000000000000004\n",
      "0.30000000000000004\n"
     ]
    }
   ],
   "source": [
    "print(\"Addition and subtraction\")\n",
    "print(0.1 + 0.1)  \n",
    "print(0.2 + 0.2)  \n",
    "\n",
    "print(\"Multiplication\")\n",
    "print(2 * 0.1)  \n",
    "print(2 * 0.2)  \n",
    "\n",
    "print(\"Beware of extra decimal places (common in most languages)\")\n",
    "print(0.2 + 0.1)  \n",
    "print(3 * 0.1)  \n"
   ]
  },
  {
   "cell_type": "markdown",
   "metadata": {},
   "source": [
    "Avoiding Type Errors:"
   ]
  },
  {
   "cell_type": "code",
   "execution_count": 4,
   "metadata": {},
   "outputs": [
    {
     "name": "stdout",
     "output_type": "stream",
     "text": [
      "Happy 23rd Birthday!\n"
     ]
    }
   ],
   "source": [
    "age = 23\n",
    "message = \"Happy \" + str(age) + \"rd Birthday!\"\n",
    "print(message)  # Output: Happy 23rd Birthday!\n"
   ]
  },
  {
   "cell_type": "markdown",
   "metadata": {},
   "source": [
    "IF STATEMENTS\n"
   ]
  },
  {
   "cell_type": "code",
   "execution_count": 6,
   "metadata": {},
   "outputs": [
    {
     "name": "stdout",
     "output_type": "stream",
     "text": [
      "Audi\n",
      "BMW\n",
      "Subaru\n",
      "Toyota\n"
     ]
    }
   ],
   "source": [
    "#simple example of if statement\n",
    "\n",
    "cars = ['audi', 'bmw', 'subaru', 'toyota']\n",
    "for car in cars:\n",
    "    if car == 'bmw':\n",
    "        print(car.upper())\n",
    "    else:\n",
    "        print(car.title())\n"
   ]
  },
  {
   "cell_type": "code",
   "execution_count": 7,
   "metadata": {},
   "outputs": [
    {
     "name": "stdout",
     "output_type": "stream",
     "text": [
      "True\n",
      "False\n"
     ]
    }
   ],
   "source": [
    "# Checking for Equality\n",
    "car = 'bmw'\n",
    "print(car == 'bmw')  # True\n",
    "\n",
    "car = 'audi'\n",
    "print(car == 'bmw')  # False\n"
   ]
  },
  {
   "cell_type": "code",
   "execution_count": 8,
   "metadata": {},
   "outputs": [
    {
     "name": "stdout",
     "output_type": "stream",
     "text": [
      "False\n",
      "True\n",
      "Audi\n"
     ]
    }
   ],
   "source": [
    "#Ignoring Case When Checking for Equality\n",
    "car = 'Audi'\n",
    "print(car == 'audi')          # False\n",
    "print(car.lower() == 'audi')  # True\n",
    "print(car) \n"
   ]
  },
  {
   "cell_type": "code",
   "execution_count": 9,
   "metadata": {},
   "outputs": [
    {
     "name": "stdout",
     "output_type": "stream",
     "text": [
      "Hold the anchovies!\n"
     ]
    }
   ],
   "source": [
    "# Checking for Inequality\n",
    "requested_topping = 'mushrooms'\n",
    "if requested_topping != 'anchovies':\n",
    "    print(\"Hold the anchovies!\")  # Hold the anchovies!\n"
   ]
  },
  {
   "cell_type": "code",
   "execution_count": 10,
   "metadata": {},
   "outputs": [
    {
     "name": "stdout",
     "output_type": "stream",
     "text": [
      "True\n",
      "That is not the correct answer. Please try again!\n",
      "True\n",
      "True\n",
      "False\n",
      "False\n"
     ]
    }
   ],
   "source": [
    "# numerical comparisons\n",
    "age = 18\n",
    "print(age == 18)  # True\n",
    "\n",
    "answer = 17\n",
    "if answer != 42:\n",
    "    print(\"That is not the correct answer. Please try again!\")  \n",
    "\n",
    "age = 19\n",
    "print(age < 21)  # True\n",
    "print(age <= 21)  # True\n",
    "print(age > 21)  # False\n",
    "print(age >= 21)  # False\n"
   ]
  },
  {
   "cell_type": "code",
   "execution_count": 11,
   "metadata": {},
   "outputs": [
    {
     "name": "stdout",
     "output_type": "stream",
     "text": [
      "False\n",
      "True\n"
     ]
    }
   ],
   "source": [
    "# Using \"and\" to Check Multiple Conditions\n",
    "age_0 = 22\n",
    "age_1 = 18\n",
    "print(age_0 >= 21 and age_1 >= 21)  # False  because of of the condition is  incorrect\n",
    "\n",
    "age_1 = 22\n",
    "print(age_0 >= 21 and age_1 >= 21)  # True    both conditions are correct \n"
   ]
  },
  {
   "cell_type": "code",
   "execution_count": 13,
   "metadata": {},
   "outputs": [
    {
     "name": "stdout",
     "output_type": "stream",
     "text": [
      "True\n",
      "False\n"
     ]
    }
   ],
   "source": [
    "# Using \"or\" to Check Multiple Conditions\n",
    "# incase of or the one condition must be correct it will return true \n",
    "#if both condition is incorrect the value will be false\n",
    "age_0 = 22\n",
    "age_1 = 18\n",
    "print(age_0 >= 21 or age_1 >= 21)  # True\n",
    "\n",
    "age_0 = 18\n",
    "print(age_0 >= 21 or age_1 >= 21)  # False\n"
   ]
  },
  {
   "cell_type": "code",
   "execution_count": 15,
   "metadata": {},
   "outputs": [
    {
     "name": "stdout",
     "output_type": "stream",
     "text": [
      "True\n",
      "False\n"
     ]
    }
   ],
   "source": [
    "#checking the value in the list \n",
    "requested_toppings = ['mushrooms', 'onions', 'pineapple']\n",
    "print('mushrooms' in requested_toppings)  # True\n",
    "print('pepperoni' in requested_toppings)  # False\n"
   ]
  },
  {
   "cell_type": "code",
   "execution_count": 16,
   "metadata": {},
   "outputs": [
    {
     "name": "stdout",
     "output_type": "stream",
     "text": [
      "Marie, you can post a response if you wish.\n"
     ]
    }
   ],
   "source": [
    "#checking value is not in the list\n",
    "banned_users = ['andrew', 'carolina', 'david']\n",
    "user = 'marie'\n",
    "if user not in banned_users:\n",
    "    print(user.title() + \", you can post a response if you wish.\")  \n"
   ]
  },
  {
   "cell_type": "code",
   "execution_count": null,
   "metadata": {},
   "outputs": [],
   "source": []
  }
 ],
 "metadata": {
  "kernelspec": {
   "display_name": "Python 3",
   "language": "python",
   "name": "python3"
  },
  "language_info": {
   "codemirror_mode": {
    "name": "ipython",
    "version": 3
   },
   "file_extension": ".py",
   "mimetype": "text/x-python",
   "name": "python",
   "nbconvert_exporter": "python",
   "pygments_lexer": "ipython3",
   "version": "3.12.1"
  }
 },
 "nbformat": 4,
 "nbformat_minor": 2
}
