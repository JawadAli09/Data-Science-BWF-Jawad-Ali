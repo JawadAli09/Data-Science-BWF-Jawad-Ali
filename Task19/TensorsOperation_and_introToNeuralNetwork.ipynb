{
 "cells": [
  {
   "cell_type": "markdown",
   "metadata": {},
   "source": [
    "## Tensor\n",
    "**Tensors in Deep Learning**\n",
    "Tensors are a core concept in deep learning, serving as the primary data structure for representing and manipulating data. They are essentially multi-dimensional arrays that generalize scalars, vectors, and matrices to higher dimensions. Understanding tensors is crucial for grasping the mechanics of deep learning models, as they are used to represent inputs, weights, outputs, and intermediate computations in neural networks.\n",
    "\n",
    "Understanding Tensors:\n",
    "Dimensions of Tensors:\n",
    "\n",
    "0-D Tensor (Scalar):\n",
    " A single number, like 5 or 3.14. It has no dimensions and is represented as a point in space.\n",
    "\n",
    "1-D Tensor (Vector): \n",
    "A 1-dimensional array of numbers, like [1, 2, 3]. It represents a line of numbers and can be used to represent a list of values such as a feature vector.\n",
    "\n",
    "2-D Tensor (Matrix): \n",
    "A 2-dimensional array, like a table with rows and columns. Example: [[1, 2], [3, 4]]. It represents data that can be arranged in a grid, like an image with width and height.\n",
    "\n",
    "3-D Tensor:\n",
    " Adds another dimension, often used to represent multiple matrices or a stack of images. Example: A batch of images, where each image is a 2-D matrix.\n",
    "\n",
    "4-D Tensor:\n",
    " Typically used to represent batches of 3-D tensors. For example, a batch of color images, where each image has width, height, and three color channels (RGB)."
   ]
  },
  {
   "cell_type": "markdown",
   "metadata": {},
   "source": [
    "### Basic Tensor Operations:"
   ]
  },
  {
   "cell_type": "code",
   "execution_count": 159,
   "metadata": {},
   "outputs": [
    {
     "name": "stdout",
     "output_type": "stream",
     "text": [
      "tensor([1, 2, 4]) <class 'torch.Tensor'>\n"
     ]
    }
   ],
   "source": [
    "# tensor creation\n",
    "import torch\n",
    "\n",
    "x = torch.tensor([1,2,4])\n",
    "\n",
    "print(x, type(x))"
   ]
  },
  {
   "cell_type": "code",
   "execution_count": 160,
   "metadata": {},
   "outputs": [
    {
     "data": {
      "text/plain": [
       "tensor([[0., 0., 0.],\n",
       "        [0., 0., 0.]])"
      ]
     },
     "execution_count": 160,
     "metadata": {},
     "output_type": "execute_result"
    }
   ],
   "source": [
    "# Creates a tensor of the given size filled with zeros.\n",
    "\n",
    "x = torch.zeros((2,3))\n",
    "\n",
    "x"
   ]
  },
  {
   "cell_type": "code",
   "execution_count": 161,
   "metadata": {},
   "outputs": [
    {
     "data": {
      "text/plain": [
       "tensor([[1., 1., 1.],\n",
       "        [1., 1., 1.]])"
      ]
     },
     "execution_count": 161,
     "metadata": {},
     "output_type": "execute_result"
    }
   ],
   "source": [
    "# Creates a tensor of the given size filled with ones.\n",
    "\n",
    "x = torch.ones((2,3))\n",
    "x"
   ]
  },
  {
   "cell_type": "code",
   "execution_count": 162,
   "metadata": {},
   "outputs": [
    {
     "data": {
      "text/plain": [
       "tensor([[0.8823, 0.9150, 0.3829],\n",
       "        [0.9593, 0.3904, 0.6009]])"
      ]
     },
     "execution_count": 162,
     "metadata": {},
     "output_type": "execute_result"
    }
   ],
   "source": [
    "# Creates a tensor with random values uniformly distributed between 0 and 1.\n",
    "\n",
    "x = torch.rand((2,3))\n",
    "\n",
    "x"
   ]
  },
  {
   "cell_type": "code",
   "execution_count": 163,
   "metadata": {},
   "outputs": [
    {
     "data": {
      "text/plain": [
       "tensor([[ 1.1561,  0.3965, -2.4661],\n",
       "        [ 0.3623,  0.3765, -0.1808]])"
      ]
     },
     "execution_count": 163,
     "metadata": {},
     "output_type": "execute_result"
    }
   ],
   "source": [
    "# Creates a tensor with random values from a normal distribution.\n",
    "\n",
    "x = torch.randn((2,3))\n",
    "\n",
    "x\n",
    "\n"
   ]
  },
  {
   "cell_type": "code",
   "execution_count": 164,
   "metadata": {},
   "outputs": [
    {
     "data": {
      "text/plain": [
       "tensor([0, 2, 4, 6, 8])"
      ]
     },
     "execution_count": 164,
     "metadata": {},
     "output_type": "execute_result"
    }
   ],
   "source": [
    "# torch.arange(start, end, step): Creates a 1-D tensor with values ranging from start to end with a step size.\n",
    "\n",
    "x = torch.arange(0,10, 2)\n",
    "\n",
    "x"
   ]
  },
  {
   "cell_type": "code",
   "execution_count": 165,
   "metadata": {},
   "outputs": [
    {
     "data": {
      "text/plain": [
       "tensor([ 0.0000,  1.4286,  2.8571,  4.2857,  5.7143,  7.1429,  8.5714, 10.0000])"
      ]
     },
     "execution_count": 165,
     "metadata": {},
     "output_type": "execute_result"
    }
   ],
   "source": [
    "# torch.linspace(start, end, steps): Creates a 1-D tensor with steps evenly spaced points between start and end.\n",
    "\n",
    "x = torch.linspace(0,10,8)\n",
    "\n",
    "x"
   ]
  },
  {
   "cell_type": "code",
   "execution_count": 166,
   "metadata": {},
   "outputs": [
    {
     "name": "stdout",
     "output_type": "stream",
     "text": [
      "tensor([[1., 0., 0.],\n",
      "        [0., 1., 0.],\n",
      "        [0., 0., 1.]]) \n",
      " tensor([[1., 0., 0., 0.],\n",
      "        [0., 1., 0., 0.],\n",
      "        [0., 0., 1., 0.],\n",
      "        [0., 0., 0., 1.]])\n"
     ]
    }
   ],
   "source": [
    "# torch.eye(n): Creates an identity matrix of size n.\n",
    "\n",
    "x = torch.eye(3)\n",
    "y = torch.eye(4)\n",
    "print(x,\"\\n\",y)"
   ]
  },
  {
   "cell_type": "markdown",
   "metadata": {},
   "source": [
    "####Tensor Indexing and Slicing"
   ]
  },
  {
   "cell_type": "code",
   "execution_count": 167,
   "metadata": {},
   "outputs": [
    {
     "data": {
      "text/plain": [
       "tensor(2)"
      ]
     },
     "execution_count": 167,
     "metadata": {},
     "output_type": "execute_result"
    }
   ],
   "source": [
    "x = torch.tensor((1,2,3))\n",
    "\n",
    "# accessing specific element\n",
    "x[1]"
   ]
  },
  {
   "cell_type": "code",
   "execution_count": 168,
   "metadata": {},
   "outputs": [
    {
     "data": {
      "text/plain": [
       "tensor([2, 4])"
      ]
     },
     "execution_count": 168,
     "metadata": {},
     "output_type": "execute_result"
    }
   ],
   "source": [
    "# tensor[start:end]: Slicing to get a sub-tensor.\n",
    "\n",
    "x = torch.tensor((1,2,4,5))\n",
    "\n",
    "x[1:3]"
   ]
  },
  {
   "cell_type": "code",
   "execution_count": 169,
   "metadata": {},
   "outputs": [
    {
     "data": {
      "text/plain": [
       "tensor([[1, 2, 3],\n",
       "        [4, 5, 6]])"
      ]
     },
     "execution_count": 169,
     "metadata": {},
     "output_type": "execute_result"
    }
   ],
   "source": [
    "# creating 2D tensor\n",
    "\n",
    "x = torch.tensor(([1,2,3],[4,5,6]))\n",
    "\n",
    "x"
   ]
  },
  {
   "cell_type": "code",
   "execution_count": 170,
   "metadata": {},
   "outputs": [
    {
     "data": {
      "text/plain": [
       "tensor([2, 5])"
      ]
     },
     "execution_count": 170,
     "metadata": {},
     "output_type": "execute_result"
    }
   ],
   "source": [
    "# tensor[:, index]: Access all rows for a specific column in a 2D tensor.\n",
    "\n",
    "x[:,1]"
   ]
  },
  {
   "cell_type": "code",
   "execution_count": 171,
   "metadata": {},
   "outputs": [
    {
     "data": {
      "text/plain": [
       "tensor([3, 4, 5])"
      ]
     },
     "execution_count": 171,
     "metadata": {},
     "output_type": "execute_result"
    }
   ],
   "source": [
    "# tensor[condition]: Boolean indexing.\n",
    "x = torch.tensor(([1,2,3,4,5]))\n",
    "\n",
    "x=x[x>2]\n",
    "x"
   ]
  },
  {
   "cell_type": "markdown",
   "metadata": {},
   "source": [
    "## Tensor Operations\n",
    "#### Element-wise Operations:"
   ]
  },
  {
   "cell_type": "code",
   "execution_count": 172,
   "metadata": {},
   "outputs": [
    {
     "data": {
      "text/plain": [
       "tensor([2, 4, 6])"
      ]
     },
     "execution_count": 172,
     "metadata": {},
     "output_type": "execute_result"
    }
   ],
   "source": [
    "# addition\n",
    "x = torch.tensor([1,2,3])\n",
    "y = torch.tensor([1,2,3])\n",
    "\n",
    "z=x+y\n",
    "\n",
    "z\n"
   ]
  },
  {
   "cell_type": "code",
   "execution_count": 173,
   "metadata": {},
   "outputs": [
    {
     "data": {
      "text/plain": [
       "tensor([0, 0, 0])"
      ]
     },
     "execution_count": 173,
     "metadata": {},
     "output_type": "execute_result"
    }
   ],
   "source": [
    "# subtraction\n",
    "z=x-y\n",
    "\n",
    "z"
   ]
  },
  {
   "cell_type": "code",
   "execution_count": 174,
   "metadata": {},
   "outputs": [
    {
     "data": {
      "text/plain": [
       "tensor([1., 1., 1.])"
      ]
     },
     "execution_count": 174,
     "metadata": {},
     "output_type": "execute_result"
    }
   ],
   "source": [
    "# division \n",
    "z=x/y\n",
    "\n",
    "z"
   ]
  },
  {
   "cell_type": "code",
   "execution_count": 175,
   "metadata": {},
   "outputs": [
    {
     "data": {
      "text/plain": [
       "tensor([[19, 22],\n",
       "        [43, 50]])"
      ]
     },
     "execution_count": 175,
     "metadata": {},
     "output_type": "execute_result"
    }
   ],
   "source": [
    "# matrix multiplication\n",
    "a = torch.tensor([[1, 2], [3, 4]])\n",
    "b = torch.tensor([[5, 6], [7, 8]])\n",
    "c = torch.matmul(a,b)\n",
    "c"
   ]
  },
  {
   "cell_type": "code",
   "execution_count": 176,
   "metadata": {},
   "outputs": [
    {
     "data": {
      "text/plain": [
       "tensor([[19, 22],\n",
       "        [43, 50]])"
      ]
     },
     "execution_count": 176,
     "metadata": {},
     "output_type": "execute_result"
    }
   ],
   "source": [
    "# do same operation as above\n",
    "c = a @ b\n",
    "c"
   ]
  },
  {
   "cell_type": "code",
   "execution_count": 177,
   "metadata": {},
   "outputs": [
    {
     "data": {
      "text/plain": [
       "tensor([[19, 22],\n",
       "        [43, 50]])"
      ]
     },
     "execution_count": 177,
     "metadata": {},
     "output_type": "execute_result"
    }
   ],
   "source": [
    "c = torch.mm(a,b)\n",
    "c"
   ]
  },
  {
   "cell_type": "code",
   "execution_count": 178,
   "metadata": {},
   "outputs": [
    {
     "data": {
      "text/plain": [
       "tensor([[3, 5, 7],\n",
       "        [4, 6, 8],\n",
       "        [5, 7, 9]])"
      ]
     },
     "execution_count": 178,
     "metadata": {},
     "output_type": "execute_result"
    }
   ],
   "source": [
    "# Broadcasting Operations:\n",
    "# Automatically expands the smaller tensor to match the larger tensor's size for element-wise operations.\n",
    "\n",
    "a = torch.tensor([1,3,5])\n",
    "b = torch.tensor(([2],[3],[4]))\n",
    "\n",
    "c = a+b\n",
    "c"
   ]
  },
  {
   "cell_type": "markdown",
   "metadata": {},
   "source": [
    "#### Reduction Operations:"
   ]
  },
  {
   "cell_type": "code",
   "execution_count": 179,
   "metadata": {},
   "outputs": [
    {
     "data": {
      "text/plain": [
       "tensor(3.8000)"
      ]
     },
     "execution_count": 179,
     "metadata": {},
     "output_type": "execute_result"
    }
   ],
   "source": [
    "# mean of the tensor \n",
    "x = torch.tensor([1.,4.,5.,3.,6.])\n",
    "\n",
    "torch.mean(x)"
   ]
  },
  {
   "cell_type": "code",
   "execution_count": 180,
   "metadata": {},
   "outputs": [
    {
     "data": {
      "text/plain": [
       "tensor(19)"
      ]
     },
     "execution_count": 180,
     "metadata": {},
     "output_type": "execute_result"
    }
   ],
   "source": [
    "x = torch.tensor([1,4,5,3,6])\n",
    "x.sum()"
   ]
  },
  {
   "cell_type": "code",
   "execution_count": 181,
   "metadata": {},
   "outputs": [
    {
     "data": {
      "text/plain": [
       "tensor(1)"
      ]
     },
     "execution_count": 181,
     "metadata": {},
     "output_type": "execute_result"
    }
   ],
   "source": [
    "x = torch.tensor([1,4,5,3,6])\n",
    "x.min()"
   ]
  },
  {
   "cell_type": "code",
   "execution_count": 182,
   "metadata": {},
   "outputs": [
    {
     "data": {
      "text/plain": [
       "tensor(1)"
      ]
     },
     "execution_count": 182,
     "metadata": {},
     "output_type": "execute_result"
    }
   ],
   "source": [
    "x = torch.tensor([1,4,5,3,6])\n",
    "x.min()"
   ]
  },
  {
   "cell_type": "code",
   "execution_count": 183,
   "metadata": {},
   "outputs": [
    {
     "data": {
      "text/plain": [
       "tensor(4)"
      ]
     },
     "execution_count": 183,
     "metadata": {},
     "output_type": "execute_result"
    }
   ],
   "source": [
    "torch.median(x)"
   ]
  },
  {
   "cell_type": "code",
   "execution_count": 184,
   "metadata": {},
   "outputs": [
    {
     "data": {
      "text/plain": [
       "tensor(360)"
      ]
     },
     "execution_count": 184,
     "metadata": {},
     "output_type": "execute_result"
    }
   ],
   "source": [
    "# torch.prod(tensor): Product of all elements\n",
    "torch.prod(x)"
   ]
  },
  {
   "cell_type": "markdown",
   "metadata": {},
   "source": [
    "###  Tensor Reshaping"
   ]
  },
  {
   "cell_type": "code",
   "execution_count": 185,
   "metadata": {},
   "outputs": [
    {
     "data": {
      "text/plain": [
       "tensor([[1, 2],\n",
       "        [3, 4],\n",
       "        [5, 6]])"
      ]
     },
     "execution_count": 185,
     "metadata": {},
     "output_type": "execute_result"
    }
   ],
   "source": [
    "# tensor.view(shape): Reshapes the tensor to the specified shape.\n",
    "x = torch.tensor([[1, 2, 3], [4, 5, 6]])\n",
    "y = x.view(3, 2)\n",
    "y"
   ]
  },
  {
   "cell_type": "code",
   "execution_count": 186,
   "metadata": {},
   "outputs": [
    {
     "data": {
      "text/plain": [
       "tensor([[1, 4],\n",
       "        [2, 5],\n",
       "        [3, 6]])"
      ]
     },
     "execution_count": 186,
     "metadata": {},
     "output_type": "execute_result"
    }
   ],
   "source": [
    "# tensor.permute(*dims): Permutes the dimensions of the tensor.\n",
    "x = torch.tensor(([1,2,3],[4,5,6]))\n",
    "y=x.permute(1,0)\n",
    "y"
   ]
  },
  {
   "cell_type": "code",
   "execution_count": 187,
   "metadata": {},
   "outputs": [
    {
     "name": "stdout",
     "output_type": "stream",
     "text": [
      "tensor([[1, 2, 3],\n",
      "        [4, 5, 6]])\n",
      "transpose\n",
      " tensor([[1, 4],\n",
      "        [2, 5],\n",
      "        [3, 6]])\n"
     ]
    }
   ],
   "source": [
    "# tensor.t(): Transposes a 2D tensor (swap rows and columns).\n",
    "\n",
    "x = torch.tensor(([1,2,3],[4,5,6]))\n",
    "print(x)\n",
    "trans= x.T\n",
    "print(\"transpose\\n\",trans)"
   ]
  },
  {
   "cell_type": "code",
   "execution_count": 188,
   "metadata": {},
   "outputs": [
    {
     "name": "stdout",
     "output_type": "stream",
     "text": [
      "tensor([[[1, 2, 3],\n",
      "         [4, 5, 6]]])\n",
      "tensor([[1, 2, 3],\n",
      "        [4, 5, 6]])\n"
     ]
    }
   ],
   "source": [
    "# tensor.squeeze(): Removes dimensions of size 1.\n",
    "x = torch.tensor(([[[1,2,3],[4,5,6]]]))\n",
    "print(x)\n",
    "\n",
    "print(x.squeeze())"
   ]
  },
  {
   "cell_type": "code",
   "execution_count": 189,
   "metadata": {},
   "outputs": [
    {
     "data": {
      "text/plain": [
       "tensor([[1, 2, 3]])"
      ]
     },
     "execution_count": 189,
     "metadata": {},
     "output_type": "execute_result"
    }
   ],
   "source": [
    "# tensor.unsqueeze(dim): Adds a dimension of size 1 at the specified dimension.\n",
    "x = torch.tensor([1, 2, 3])\n",
    "y = x.unsqueeze(0)\n",
    "y"
   ]
  },
  {
   "cell_type": "markdown",
   "metadata": {},
   "source": [
    "### Mathematical Operations"
   ]
  },
  {
   "cell_type": "code",
   "execution_count": 190,
   "metadata": {},
   "outputs": [
    {
     "data": {
      "text/plain": [
       "tensor([ 2.7183,  7.3891, 20.0855])"
      ]
     },
     "execution_count": 190,
     "metadata": {},
     "output_type": "execute_result"
    }
   ],
   "source": [
    "x = torch.tensor([1.0, 2.0, 3.0])\n",
    "torch.exp(x)"
   ]
  },
  {
   "cell_type": "code",
   "execution_count": 191,
   "metadata": {},
   "outputs": [
    {
     "data": {
      "text/plain": [
       "tensor([1., 2., 3.])"
      ]
     },
     "execution_count": 191,
     "metadata": {},
     "output_type": "execute_result"
    }
   ],
   "source": [
    "torch.abs(x)"
   ]
  },
  {
   "cell_type": "code",
   "execution_count": 192,
   "metadata": {},
   "outputs": [
    {
     "data": {
      "text/plain": [
       "tensor([0.0000, 0.6931, 1.0986])"
      ]
     },
     "execution_count": 192,
     "metadata": {},
     "output_type": "execute_result"
    }
   ],
   "source": [
    "torch.log(x)"
   ]
  },
  {
   "cell_type": "code",
   "execution_count": 193,
   "metadata": {},
   "outputs": [
    {
     "data": {
      "text/plain": [
       "tensor([1.0000, 1.4142, 1.7321])"
      ]
     },
     "execution_count": 193,
     "metadata": {},
     "output_type": "execute_result"
    }
   ],
   "source": [
    "torch.sqrt(x)"
   ]
  },
  {
   "cell_type": "code",
   "execution_count": 194,
   "metadata": {},
   "outputs": [
    {
     "data": {
      "text/plain": [
       "tensor([0.8415, 0.9093, 0.1411])"
      ]
     },
     "execution_count": 194,
     "metadata": {},
     "output_type": "execute_result"
    }
   ],
   "source": [
    "torch.sin(x)"
   ]
  },
  {
   "cell_type": "code",
   "execution_count": 195,
   "metadata": {},
   "outputs": [
    {
     "data": {
      "text/plain": [
       "tensor([ 0.5403, -0.4161, -0.9900])"
      ]
     },
     "execution_count": 195,
     "metadata": {},
     "output_type": "execute_result"
    }
   ],
   "source": [
    "torch.cos(x)"
   ]
  },
  {
   "cell_type": "code",
   "execution_count": 196,
   "metadata": {},
   "outputs": [
    {
     "data": {
      "text/plain": [
       "tensor([ 1.,  8., 27.])"
      ]
     },
     "execution_count": 196,
     "metadata": {},
     "output_type": "execute_result"
    }
   ],
   "source": [
    "torch.pow(x,3)"
   ]
  },
  {
   "cell_type": "markdown",
   "metadata": {},
   "source": [
    "## Neural Networks in PyTorch\n",
    "**A neural network** is a series of algorithms that mimic the way a human brain operates, designed to recognize patterns. In PyTorch, neural networks are built using torch.nn.Module, which allows you to define layers and the forward pass of the network.\n",
    "\n",
    "**Key Concepts**\n",
    "\n",
    "**Layers:** These are the building blocks of a neural network. The simplest form is a linear layer, which performs a weighted sum of its input plus a bias.\n",
    "\n",
    "**Activation Function:** After each layer, an activation function is usually applied to introduce non-linearity. Common activation functions include ReLU (Rectified Linear Unit).\n",
    "\n",
    "**Loss Function:** This function measures how well the network is performing by comparing its predictions to the actual values. The goal of training is to minimize this loss.\n",
    "\n",
    "**Optimizer:** An algorithm that adjusts the weights of the network to minimize the loss function."
   ]
  },
  {
   "cell_type": "markdown",
   "metadata": {},
   "source": [
    "#### Code of Neural Network for linear data"
   ]
  },
  {
   "cell_type": "code",
   "execution_count": 197,
   "metadata": {},
   "outputs": [],
   "source": [
    "import torch\n",
    "from torch import nn"
   ]
  },
  {
   "cell_type": "code",
   "execution_count": 198,
   "metadata": {},
   "outputs": [
    {
     "data": {
      "text/plain": [
       "(tensor([[ 2.0000],\n",
       "         [ 2.0808],\n",
       "         [ 2.1616],\n",
       "         [ 2.2424],\n",
       "         [ 2.3232],\n",
       "         [ 2.4040],\n",
       "         [ 2.4848],\n",
       "         [ 2.5657],\n",
       "         [ 2.6465],\n",
       "         [ 2.7273],\n",
       "         [ 2.8081],\n",
       "         [ 2.8889],\n",
       "         [ 2.9697],\n",
       "         [ 3.0505],\n",
       "         [ 3.1313],\n",
       "         [ 3.2121],\n",
       "         [ 3.2929],\n",
       "         [ 3.3737],\n",
       "         [ 3.4545],\n",
       "         [ 3.5354],\n",
       "         [ 3.6162],\n",
       "         [ 3.6970],\n",
       "         [ 3.7778],\n",
       "         [ 3.8586],\n",
       "         [ 3.9394],\n",
       "         [ 4.0202],\n",
       "         [ 4.1010],\n",
       "         [ 4.1818],\n",
       "         [ 4.2626],\n",
       "         [ 4.3434],\n",
       "         [ 4.4242],\n",
       "         [ 4.5051],\n",
       "         [ 4.5859],\n",
       "         [ 4.6667],\n",
       "         [ 4.7475],\n",
       "         [ 4.8283],\n",
       "         [ 4.9091],\n",
       "         [ 4.9899],\n",
       "         [ 5.0707],\n",
       "         [ 5.1515],\n",
       "         [ 5.2323],\n",
       "         [ 5.3131],\n",
       "         [ 5.3939],\n",
       "         [ 5.4747],\n",
       "         [ 5.5556],\n",
       "         [ 5.6364],\n",
       "         [ 5.7172],\n",
       "         [ 5.7980],\n",
       "         [ 5.8788],\n",
       "         [ 5.9596],\n",
       "         [ 6.0404],\n",
       "         [ 6.1212],\n",
       "         [ 6.2020],\n",
       "         [ 6.2828],\n",
       "         [ 6.3636],\n",
       "         [ 6.4444],\n",
       "         [ 6.5253],\n",
       "         [ 6.6061],\n",
       "         [ 6.6869],\n",
       "         [ 6.7677],\n",
       "         [ 6.8485],\n",
       "         [ 6.9293],\n",
       "         [ 7.0101],\n",
       "         [ 7.0909],\n",
       "         [ 7.1717],\n",
       "         [ 7.2525],\n",
       "         [ 7.3333],\n",
       "         [ 7.4141],\n",
       "         [ 7.4949],\n",
       "         [ 7.5758],\n",
       "         [ 7.6566],\n",
       "         [ 7.7374],\n",
       "         [ 7.8182],\n",
       "         [ 7.8990],\n",
       "         [ 7.9798],\n",
       "         [ 8.0606],\n",
       "         [ 8.1414],\n",
       "         [ 8.2222],\n",
       "         [ 8.3030],\n",
       "         [ 8.3838],\n",
       "         [ 8.4646],\n",
       "         [ 8.5455],\n",
       "         [ 8.6263],\n",
       "         [ 8.7071],\n",
       "         [ 8.7879],\n",
       "         [ 8.8687],\n",
       "         [ 8.9495],\n",
       "         [ 9.0303],\n",
       "         [ 9.1111],\n",
       "         [ 9.1919],\n",
       "         [ 9.2727],\n",
       "         [ 9.3535],\n",
       "         [ 9.4343],\n",
       "         [ 9.5152],\n",
       "         [ 9.5960],\n",
       "         [ 9.6768],\n",
       "         [ 9.7576],\n",
       "         [ 9.8384],\n",
       "         [ 9.9192],\n",
       "         [10.0000]]),\n",
       " tensor([[ 5.1333],\n",
       "         [ 5.4753],\n",
       "         [ 5.4580],\n",
       "         [ 5.7055],\n",
       "         [ 5.7949],\n",
       "         [ 6.2239],\n",
       "         [ 6.0224],\n",
       "         [ 6.2661],\n",
       "         [ 6.4723],\n",
       "         [ 6.5542],\n",
       "         [ 6.8898],\n",
       "         [ 6.7809],\n",
       "         [ 7.4152],\n",
       "         [ 7.1386],\n",
       "         [ 7.7056],\n",
       "         [ 7.7158],\n",
       "         [ 7.7547],\n",
       "         [ 8.1520],\n",
       "         [ 8.1981],\n",
       "         [ 8.5227],\n",
       "         [ 8.5097],\n",
       "         [ 8.5651],\n",
       "         [ 8.8727],\n",
       "         [ 8.8994],\n",
       "         [ 9.2340],\n",
       "         [ 9.5136],\n",
       "         [ 9.5965],\n",
       "         [ 9.5043],\n",
       "         [ 9.9196],\n",
       "         [ 9.9816],\n",
       "         [10.2254],\n",
       "         [10.1077],\n",
       "         [10.1742],\n",
       "         [10.4867],\n",
       "         [10.5532],\n",
       "         [11.1117],\n",
       "         [11.1402],\n",
       "         [11.3334],\n",
       "         [11.4705],\n",
       "         [11.5487],\n",
       "         [11.9103],\n",
       "         [11.6986],\n",
       "         [12.0536],\n",
       "         [12.0289],\n",
       "         [12.4382],\n",
       "         [12.4366],\n",
       "         [12.7609],\n",
       "         [12.7939],\n",
       "         [13.2149],\n",
       "         [13.0210],\n",
       "         [13.1817],\n",
       "         [13.3433],\n",
       "         [13.8789],\n",
       "         [13.8990],\n",
       "         [14.2178],\n",
       "         [13.9326],\n",
       "         [14.0525],\n",
       "         [14.2665],\n",
       "         [14.4556],\n",
       "         [14.8866],\n",
       "         [15.0365],\n",
       "         [15.3163],\n",
       "         [15.1411],\n",
       "         [15.2614],\n",
       "         [15.7261],\n",
       "         [15.6540],\n",
       "         [16.0684],\n",
       "         [16.0190],\n",
       "         [16.3829],\n",
       "         [16.2073],\n",
       "         [16.4370],\n",
       "         [16.8010],\n",
       "         [16.9392],\n",
       "         [16.9842],\n",
       "         [17.3586],\n",
       "         [17.5412],\n",
       "         [17.3515],\n",
       "         [17.5610],\n",
       "         [18.0850],\n",
       "         [17.9333],\n",
       "         [18.0907],\n",
       "         [18.0990],\n",
       "         [18.3594],\n",
       "         [18.7266],\n",
       "         [18.7928],\n",
       "         [18.8059],\n",
       "         [19.1549],\n",
       "         [19.1398],\n",
       "         [19.2601],\n",
       "         [19.4962],\n",
       "         [19.5767],\n",
       "         [19.7979],\n",
       "         [20.3686],\n",
       "         [20.3275],\n",
       "         [20.5190],\n",
       "         [20.3704],\n",
       "         [20.6010],\n",
       "         [20.8436],\n",
       "         [21.1275],\n",
       "         [21.0300]]))"
      ]
     },
     "execution_count": 198,
     "metadata": {},
     "output_type": "execute_result"
    }
   ],
   "source": [
    "X=torch.linspace(2,10,100).unsqueeze(1)\n",
    "y= 2*X + 1 + torch.rand(X.size())*0.5\n",
    "\n",
    "X, y"
   ]
  },
  {
   "cell_type": "code",
   "execution_count": 199,
   "metadata": {},
   "outputs": [
    {
     "data": {
      "text/plain": [
       "(torch.Size([100, 1]), torch.Size([100, 1]))"
      ]
     },
     "execution_count": 199,
     "metadata": {},
     "output_type": "execute_result"
    }
   ],
   "source": [
    "X.shape,y.shape"
   ]
  },
  {
   "cell_type": "code",
   "execution_count": 200,
   "metadata": {},
   "outputs": [
    {
     "data": {
      "text/plain": [
       "SimpleNN(\n",
       "  (layer1): Linear(in_features=1, out_features=1, bias=True)\n",
       ")"
      ]
     },
     "execution_count": 200,
     "metadata": {},
     "output_type": "execute_result"
    }
   ],
   "source": [
    "# define simple nueral network\n",
    "\n",
    "class SimpleNN(nn.Module):\n",
    "    def __init__(self):\n",
    "        super().__init__()\n",
    "        self.layer1=nn.Linear(in_features=1,out_features=1)\n",
    "\n",
    "    def forward(self, x):\n",
    "        return self.layer1(x)\n",
    "    \n",
    "model_0 = SimpleNN()\n",
    "\n",
    "model_0"
   ]
  },
  {
   "cell_type": "code",
   "execution_count": 201,
   "metadata": {},
   "outputs": [
    {
     "data": {
      "text/plain": [
       "OrderedDict([('layer1.weight', tensor([[-0.4309]])),\n",
       "             ('layer1.bias', tensor([-0.5987]))])"
      ]
     },
     "execution_count": 201,
     "metadata": {},
     "output_type": "execute_result"
    }
   ],
   "source": [
    "model_0.state_dict()"
   ]
  },
  {
   "cell_type": "code",
   "execution_count": 202,
   "metadata": {},
   "outputs": [],
   "source": [
    "# set loss and optimizer\n",
    "\n",
    "loss_fn = nn.MSELoss()\n",
    "\n",
    "optimizer = torch.optim.SGD(params=model_0.parameters(), lr=0.01)\n"
   ]
  },
  {
   "cell_type": "code",
   "execution_count": 203,
   "metadata": {},
   "outputs": [
    {
     "name": "stdout",
     "output_type": "stream",
     "text": [
      "Epoch [0/100], Loss: 301.3158\n",
      "Epoch [10/100], Loss: 0.3010\n",
      "Epoch [20/100], Loss: 0.2869\n",
      "Epoch [30/100], Loss: 0.2736\n",
      "Epoch [40/100], Loss: 0.2609\n",
      "Epoch [50/100], Loss: 0.2488\n",
      "Epoch [60/100], Loss: 0.2374\n",
      "Epoch [70/100], Loss: 0.2265\n",
      "Epoch [80/100], Loss: 0.2162\n",
      "Epoch [90/100], Loss: 0.2064\n"
     ]
    }
   ],
   "source": [
    "# training loop\n",
    "torch.manual_seed(42)\n",
    "\n",
    "epochs = 100\n",
    "\n",
    "for epoch in range(epochs):\n",
    "\n",
    "    model_0.train()\n",
    "\n",
    "    y_pred=model_0(X)\n",
    "\n",
    "    loss = loss_fn(y_pred,y)\n",
    "\n",
    "    optimizer.zero_grad()\n",
    "\n",
    "    loss.backward()\n",
    "\n",
    "    optimizer.step()\n",
    "\n",
    "    if epoch%10==0:\n",
    "        print(f'Epoch [{epoch}/{epochs}], Loss: {loss:.4f}')\n",
    "\n"
   ]
  },
  {
   "cell_type": "code",
   "execution_count": 204,
   "metadata": {},
   "outputs": [
    {
     "data": {
      "image/png": "[encoded data removed]",
      "text/plain": [
       "<Figure size 640x480 with 1 Axes>"
      ]
     },
     "metadata": {},
     "output_type": "display_data"
    }
   ],
   "source": [
    "# Plotting the results\n",
    "import matplotlib.pyplot as plt\n",
    "plt.scatter(X.numpy(), y.numpy(), label='Original data')\n",
    "plt.plot(X.numpy(), model_0(X).detach().numpy(), label='Fitted line', color='red')\n",
    "plt.legend()\n",
    "plt.show()\n"
   ]
  },
  {
   "cell_type": "code",
   "execution_count": null,
   "metadata": {},
   "outputs": [],
   "source": []
  }
 ],
 "metadata": {
  "kernelspec": {
   "display_name": "base",
   "language": "python",
   "name": "python3"
  },
  "language_info": {
   "codemirror_mode": {
    "name": "ipython",
    "version": 3
   },
   "file_extension": ".py",
   "mimetype": "text/x-python",
   "name": "python",
   "nbconvert_exporter": "python",
   "pygments_lexer": "ipython3",
   "version": "3.12.4"
  }
 },
 "nbformat": 4,
 "nbformat_minor": 2
}
