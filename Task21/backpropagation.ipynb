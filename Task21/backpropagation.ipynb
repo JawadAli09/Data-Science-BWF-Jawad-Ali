{
 "cells": [
  {
   "cell_type": "markdown",
   "metadata": {},
   "source": [
    "### Backpropagation in PyTorch\n",
    "\n",
    "Backpropagation is a fundamental concept in training neural networks, where the model learns by adjusting its weights to minimize the error in predictions. In PyTorch, backpropagation is handled automatically using autograd, a powerful tool that records operations on tensors, allowing gradients to be computed during the backward pass.\n",
    "\n",
    "#### How Backpropagation Works:\n",
    "\n",
    "1. **Forward Pass:** The input data is passed through the network, and predictions are made.\n",
    "2. **Loss Calculation:** The difference between the predicted and actual values (error) is calculated using a loss function.\n",
    "3. **Backward Pass (Backpropagation):** The gradients of the loss concerning each weight are calculated, moving from the output layer back to the input layer.\n",
    "4. **Weight Update:** The weights are updated using the gradients to reduce the error. This is usually done using an optimizer like SGD (Stochastic Gradient Descent).\n",
    "```"
   ]
  },
  {
   "cell_type": "code",
   "execution_count": 69,
   "metadata": {},
   "outputs": [],
   "source": [
    "# code for backpropagation \n",
    "import torch\n",
    "import torch.nn as nn\n",
    "import torch.optim as optim"
   ]
  },
  {
   "cell_type": "code",
   "execution_count": 70,
   "metadata": {},
   "outputs": [],
   "source": [
    "# Sample data (input and target)\n",
    "inputs = torch.tensor([[1.0], [2.0], [3.0], [4.0]])\n",
    "targets = torch.tensor([[2.0], [4.0], [6.0], [8.0]])"
   ]
  },
  {
   "cell_type": "code",
   "execution_count": 71,
   "metadata": {},
   "outputs": [],
   "source": [
    "# Define a simple neural network\n",
    "class SimpleNet(nn.Module):\n",
    "    def __init__(self):\n",
    "        super().__init__()\n",
    "        self.layer_stack = nn.Sequential(\n",
    "        nn.Linear(1, 10),  # Input layer to hidden layer\n",
    "        nn.ReLU(),\n",
    "        nn.Linear(10, 1),  # Hidden layer to output layer\n",
    "        nn.ReLU()\n",
    "        )\n",
    "\n",
    "    def forward(self, x: torch.Tensor):\n",
    "        return self.layer_stack(x)"
   ]
  },
  {
   "cell_type": "code",
   "execution_count": 72,
   "metadata": {},
   "outputs": [],
   "source": [
    "# Create the model, define the loss function and optimizer\n",
    "model = SimpleNet()\n",
    "criterion = nn.MSELoss()  # Mean Squared Error Loss\n",
    "optimizer = optim.SGD(model.parameters(), lr=0.01)"
   ]
  },
  {
   "cell_type": "code",
   "execution_count": null,
   "metadata": {},
   "outputs": [],
   "source": []
  },
  {
   "cell_type": "code",
   "execution_count": 73,
   "metadata": {},
   "outputs": [
    {
     "name": "stdout",
     "output_type": "stream",
     "text": [
      "Epoch 1/100, Loss: 24.101177215576172\n",
      "Epoch 11/100, Loss: 0.23154611885547638\n",
      "Epoch 21/100, Loss: 0.17695483565330505\n",
      "Epoch 31/100, Loss: 0.13642603158950806\n",
      "Epoch 41/100, Loss: 0.10590559244155884\n",
      "Epoch 51/100, Loss: 0.08266353607177734\n",
      "Epoch 61/100, Loss: 0.06480612605810165\n",
      "Epoch 71/100, Loss: 0.05098765715956688\n",
      "Epoch 81/100, Loss: 0.04023289680480957\n",
      "Epoch 91/100, Loss: 0.03182306885719299\n"
     ]
    }
   ],
   "source": [
    "# Training loop\n",
    "\n",
    "for epoch in range(100):\n",
    "    \n",
    "    optimizer.zero_grad()\n",
    "\n",
    "    # Forward pass: compute predicted outputs\n",
    "    outputs = model(inputs)\n",
    "\n",
    "    # Compute the loss\n",
    "    loss = criterion(outputs, targets)\n",
    "\n",
    "    # Backward pass: compute gradient of the loss with respect to model parameters\n",
    "    loss.backward()\n",
    "\n",
    "    # Update model parameters\n",
    "    optimizer.step()\n",
    "\n",
    "    # Print the loss every 10 epochs\n",
    "    if epoch % 10 == 0:\n",
    "        print(f'Epoch {epoch+1}/100, Loss: {loss.item()}')"
   ]
  },
  {
   "cell_type": "code",
   "execution_count": 74,
   "metadata": {},
   "outputs": [
    {
     "name": "stdout",
     "output_type": "stream",
     "text": [
      "Predicted value for input 5.0: 10.206687927246094\n"
     ]
    }
   ],
   "source": [
    "# Test the model with new input\n",
    "with torch.no_grad():\n",
    "    test_input = torch.tensor([[5.0]])\n",
    "    predicted = model(test_input)\n",
    "    print(f'Predicted value for input 5.0: {predicted.item()}')"
   ]
  },
  {
   "cell_type": "markdown",
   "metadata": {},
   "source": [
    "### Model Definition:\n",
    "\n",
    "- **SimpleNet** defines a small neural network with one hidden layer. `nn.Linear` creates fully connected layers.\n",
    "\n",
    "### Loss Function and Optimizer:\n",
    "\n",
    "- **`nn.MSELoss()`** is used as the loss function, suitable for regression tasks.\n",
    "- **`optim.SGD`** is the optimizer that updates the weights based on the gradients.\n",
    "\n",
    "### Training Loop:\n",
    "\n",
    "1. **Forward Pass:** The inputs are passed through the network to get predictions.\n",
    "2. **Loss Calculation:** The error between predictions and targets is calculated.\n",
    "3. **Backward Pass:** `loss.backward()` computes the gradients.\n",
    "4. **Weight Update:** `optimizer.step()` updates the weights using the gradients.\n",
    "\n",
    "### Testing:\n",
    "\n",
    "- After training, the model is tested with a new input to predict an output.\n"
   ]
  },
  {
   "cell_type": "code",
   "execution_count": null,
   "metadata": {},
   "outputs": [],
   "source": []
  }
 ],
 "metadata": {
  "kernelspec": {
   "display_name": "base",
   "language": "python",
   "name": "python3"
  },
  "language_info": {
   "codemirror_mode": {
    "name": "ipython",
    "version": 3
   },
   "file_extension": ".py",
   "mimetype": "text/x-python",
   "name": "python",
   "nbconvert_exporter": "python",
   "pygments_lexer": "ipython3",
   "version": "3.12.4"
  }
 },
 "nbformat": 4,
 "nbformat_minor": 2
}
