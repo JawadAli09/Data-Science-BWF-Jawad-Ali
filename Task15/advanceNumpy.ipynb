{
 "cells": [
  {
   "cell_type": "markdown",
   "metadata": {},
   "source": [
    "The NumPy ndarray provides a way to interpret a block of homogeneous data (either contiguous or strided) as a multidimensional array object. Here's a deeper dive into its internals:\n",
    "\n",
    "Pointer to Data: Points to a block of data in RAM or a memory-mapped file.\n",
    "\n",
    "Data Type (dtype): Describes the fixed-size value cells in the array.\n",
    "\n",
    "Shape: A tuple indicating the array's shape.\n",
    "\n",
    "Strides: A tuple of integers indicating the number of bytes to step to advance one element along a dimension."
   ]
  },
  {
   "cell_type": "code",
   "execution_count": 4,
   "metadata": {},
   "outputs": [
    {
     "name": "stdout",
     "output_type": "stream",
     "text": [
      "[[1. 1. 1. 1. 1.]\n",
      " [1. 1. 1. 1. 1.]\n",
      " [1. 1. 1. 1. 1.]\n",
      " [1. 1. 1. 1. 1.]\n",
      " [1. 1. 1. 1. 1.]\n",
      " [1. 1. 1. 1. 1.]\n",
      " [1. 1. 1. 1. 1.]\n",
      " [1. 1. 1. 1. 1.]\n",
      " [1. 1. 1. 1. 1.]\n",
      " [1. 1. 1. 1. 1.]]\n",
      "\n",
      "the shape of the arr :\n",
      " (10, 5)\n"
     ]
    }
   ],
   "source": [
    "import numpy as np\n",
    "\n",
    "# np.ones((10, 5)) creates a 10x5 array filled with ones. \n",
    "# The shape attribute returns the dimensions of the array.\n",
    "\n",
    "arr=np.ones((10, 5))\n",
    "print(arr)\n",
    "print(f\"\\nthe shape of the arr :\\n {arr.shape}\")"
   ]
  },
  {
   "cell_type": "code",
   "execution_count": 9,
   "metadata": {},
   "outputs": [
    {
     "name": "stdout",
     "output_type": "stream",
     "text": [
      "(280, 40, 8)\n"
     ]
    }
   ],
   "source": [
    "# The strides indicate the number of bytes to move to the next element in each dimension. \n",
    "# For a 3x4x5 array of float64 (8 bytes each), moving to the next element along the first dimension requires moving 160 bytes, the second 40 bytes, and the third 8 bytes.\n",
    "arr = np.ones((6, 7, 5), dtype=np.float64)\n",
    "print(arr.strides)"
   ]
  },
  {
   "cell_type": "code",
   "execution_count": 10,
   "metadata": {},
   "outputs": [
    {
     "name": "stdout",
     "output_type": "stream",
     "text": [
      "[5 4 3 2 1]\n"
     ]
    }
   ],
   "source": [
    "arr = np.array([1, 2, 3, 4, 5])\n",
    "reversed_arr = arr[::-1]\n",
    "print(reversed_arr)\n"
   ]
  },
  {
   "cell_type": "markdown",
   "metadata": {},
   "source": [
    "#### Advanced Array Manipulation"
   ]
  },
  {
   "cell_type": "code",
   "execution_count": 12,
   "metadata": {},
   "outputs": [
    {
     "name": "stdout",
     "output_type": "stream",
     "text": [
      "[[0 1]\n",
      " [2 3]\n",
      " [4 5]\n",
      " [6 7]]\n"
     ]
    }
   ],
   "source": [
    "# The reshape method changes the shape of the array to 4x2 without copying the data.\n",
    "# ew shape should ne compatible with the original array's total number of elements.\n",
    "arr = np.arange(8)\n",
    "reshaped_arr = arr.reshape((4,2))\n",
    "print(reshaped_arr)"
   ]
  },
  {
   "cell_type": "code",
   "execution_count": 22,
   "metadata": {},
   "outputs": [
    {
     "data": {
      "text/plain": [
       "array([[ 0,  1,  2],\n",
       "       [ 3,  4,  5],\n",
       "       [ 6,  7,  8],\n",
       "       [ 9, 10, 11],\n",
       "       [12, 13, 14]])"
      ]
     },
     "execution_count": 22,
     "metadata": {},
     "output_type": "execute_result"
    }
   ],
   "source": [
    "arr = np.arange(15)\n",
    "reshaped_arr = arr.reshape((5,-1))\n",
    "reshaped_arr"
   ]
  },
  {
   "cell_type": "code",
   "execution_count": 29,
   "metadata": {},
   "outputs": [
    {
     "name": "stdout",
     "output_type": "stream",
     "text": [
      "[[ 0  1  2  3  4]\n",
      " [ 5  6  7  8  9]\n",
      " [10 11 12 13 14]]\n",
      "flattens the array\n",
      "[ 0  1  2  3  4  5  6  7  8  9 10 11 12 13 14] \n",
      "\n",
      " 'F' order flattens it in column-major order :\n",
      "[ 0  5 10  1  6 11  2  7 12  3  8 13  4  9 14]\n"
     ]
    }
   ],
   "source": [
    "# The ravel method flattens the array without copying the data if the values are contiguous.\n",
    "#  This is useful for converting multi-dimensional arrays into one-dimensional arrays.\n",
    "\n",
    "arr =np.arange(15).reshape((3,5))\n",
    "print(arr)\n",
    "\n",
    "print(\"flattens the array\")\n",
    "print(arr.ravel(),\"\\n\")\n",
    "print(f\" 'F' order flattens it in column-major order :\\n{arr.ravel(\"F\")}\")"
   ]
  },
  {
   "cell_type": "code",
   "execution_count": 31,
   "metadata": {},
   "outputs": [
    {
     "name": "stdout",
     "output_type": "stream",
     "text": [
      "[[ 1  2  3]\n",
      " [ 4  5  6]\n",
      " [ 7  8  9]\n",
      " [10 11 12]]\n",
      "[[ 1  2  3  7  8  9]\n",
      " [ 4  5  6 10 11 12]]\n"
     ]
    }
   ],
   "source": [
    "# np.concatenate joins arrays along the specified axis.\n",
    "arr1 = np.array([[1,2,3],[4,5,6]])\n",
    "arr2 = np.array([[7,8,9],[10,11,12]])\n",
    "\n",
    "#  axis=0, arrays are stacked vertically\n",
    "concat_arrs_vertically=np.concatenate([arr1, arr2], axis=0)\n",
    "print(concat_arrs_vertically)\n",
    "\n",
    "# axis=1, they are stacked horizontally\n",
    "concat_arrs_horizentally=np.concatenate([arr1, arr2], axis=1)\n",
    "print(concat_arrs_horizentally)"
   ]
  },
  {
   "cell_type": "code",
   "execution_count": 36,
   "metadata": {},
   "outputs": [
    {
     "name": "stdout",
     "output_type": "stream",
     "text": [
      "[[ 0.30714036  0.28658946]\n",
      " [-0.25458272 -1.6415204 ]\n",
      " [-0.58291256 -0.56629653]\n",
      " [ 1.14222742  0.95812558]\n",
      " [-0.37051078 -0.59906708]]\n",
      "splitting array\n",
      " first ; [[0.30714036 0.28658946]]\n",
      " second ; [[-0.25458272 -1.6415204 ]\n",
      " [-0.58291256 -0.56629653]]\n",
      " third ; [[ 1.14222742  0.95812558]\n",
      " [-0.37051078 -0.59906708]]\n"
     ]
    }
   ],
   "source": [
    "# splitting arrays\n",
    "arr = np.random.randn(5,2)\n",
    "print(arr)\n",
    "\n",
    "print(\"splitting array\")\n",
    "first, second, third = np.split(arr,[1,3])\n",
    "print(\" first ;\", first)\n",
    "print(\" second ;\",second)\n",
    "print(\" third ;\", third)"
   ]
  },
  {
   "cell_type": "code",
   "execution_count": 43,
   "metadata": {},
   "outputs": [
    {
     "name": "stdout",
     "output_type": "stream",
     "text": [
      "\n",
      "arr :\n",
      " [0 1 2 3 4 5]\n",
      " arr1 :\n",
      "[[0 1]\n",
      " [2 3]\n",
      " [4 5]]\n",
      " arr2 \n",
      " [[-0.29235953 -0.45423389]\n",
      " [-0.52338193  0.6456812 ]\n",
      " [-0.07531655 -0.79403593]]\n",
      "\n",
      "ther result with np.r_  :\n",
      " [[ 0.          1.        ]\n",
      " [ 2.          3.        ]\n",
      " [ 4.          5.        ]\n",
      " [-0.29235953 -0.45423389]\n",
      " [-0.52338193  0.6456812 ]\n",
      " [-0.07531655 -0.79403593]]\n"
     ]
    }
   ],
   "source": [
    "# Using r_ and c_\n",
    "# np.r_ and np.c_ are used for stacking arrays along different axes.\n",
    "# np.r_ is used for row-wise stacking (concatenation along axis 0).\n",
    "# np.c_ is used for column-wise stacking (concatenation along axis 1).\n",
    "\n",
    "arr = np.arange(6)\n",
    "arr1 =arr.reshape((3,2))\n",
    "arr2= np.random.randn(3,2)\n",
    "\n",
    "print(f\"\\narr :\\n {arr}\\n arr1 :\\n{arr1}\\n arr2 \\n {arr2}\")\n",
    "\n",
    "result_r=np.r_[arr1,arr2]\n",
    "\n",
    "print(f'\\nther result with np.r_  :\\n {result_r}')"
   ]
  },
  {
   "cell_type": "code",
   "execution_count": 44,
   "metadata": {},
   "outputs": [
    {
     "name": "stdout",
     "output_type": "stream",
     "text": [
      "[[ 0.          1.          0.        ]\n",
      " [ 2.          3.          1.        ]\n",
      " [ 4.          5.          2.        ]\n",
      " [-0.29235953 -0.45423389  3.        ]\n",
      " [-0.52338193  0.6456812   4.        ]\n",
      " [-0.07531655 -0.79403593  5.        ]]\n"
     ]
    }
   ],
   "source": [
    "# Column-wise stacking using c_\n",
    "result_c = np.c_[np.r_[arr1, arr2], arr]\n",
    "print(result_c)"
   ]
  },
  {
   "cell_type": "code",
   "execution_count": 50,
   "metadata": {},
   "outputs": [
    {
     "name": "stdout",
     "output_type": "stream",
     "text": [
      "[0 1 2]\n",
      "repeated array [0 0 1 1 2 2]\n"
     ]
    }
   ],
   "source": [
    "# Repeating Elements: tile and repeat\n",
    "# np.repeat repeats elements of an array along a specified axis.\n",
    "# np.tile repeats the whole array a specified number of times along each axis.\n",
    "\n",
    "arr = np.arange(3)\n",
    "\n",
    "print(arr)\n",
    "# repeating element 3 times\n",
    "\n",
    "repeated_arr = arr.repeat(3)\n",
    "print(f\"repeated array\",repeated_arr)"
   ]
  },
  {
   "cell_type": "code",
   "execution_count": 51,
   "metadata": {},
   "outputs": [
    {
     "name": "stdout",
     "output_type": "stream",
     "text": [
      "repeated array [0 0 0 0 1 1 1 1 2 2 2 2]\n"
     ]
    }
   ],
   "source": [
    "repeated_arr = arr.repeat(4)\n",
    "print(f\"repeated array\",repeated_arr)"
   ]
  },
  {
   "cell_type": "code",
   "execution_count": 54,
   "metadata": {},
   "outputs": [
    {
     "name": "stdout",
     "output_type": "stream",
     "text": [
      "[[-0.64906792 -0.32531048]\n",
      " [-0.1882524  -0.34755762]]\n",
      "tile array: \n",
      " [[-0.64906792 -0.32531048 -0.64906792 -0.32531048]\n",
      " [-0.1882524  -0.34755762 -0.1882524  -0.34755762]\n",
      " [-0.64906792 -0.32531048 -0.64906792 -0.32531048]\n",
      " [-0.1882524  -0.34755762 -0.1882524  -0.34755762]]\n"
     ]
    }
   ],
   "source": [
    "# np.tile repeats the whole array a specified number of times along each axis.\n",
    "arr = np.random.randn(2,2)\n",
    "print(arr)\n",
    "\n",
    "tiled_arr = np.tile(arr,(2,2))\n",
    "print(\"tile array: \\n\",tiled_arr)"
   ]
  },
  {
   "cell_type": "markdown",
   "metadata": {},
   "source": [
    "#### Sorting in NumPy\n"
   ]
  },
  {
   "cell_type": "code",
   "execution_count": 60,
   "metadata": {},
   "outputs": [
    {
     "name": "stdout",
     "output_type": "stream",
     "text": [
      "[-1.27404218 -0.78190183  0.04427731  0.40604914  1.25997573  1.39120603]\n"
     ]
    }
   ],
   "source": [
    "# In-place Sorting with sort Method\n",
    "arr = np.random.randn(6)\n",
    "arr.sort()\n",
    "print(arr)\n",
    "\n"
   ]
  },
  {
   "cell_type": "code",
   "execution_count": 61,
   "metadata": {},
   "outputs": [
    {
     "data": {
      "text/plain": [
       "array([[ 0.190402  ,  0.69843576,  1.29236703, -0.38477051, -0.47045283],\n",
       "       [-2.35806284,  0.64992132, -0.20709206, -1.12028215,  0.45777332],\n",
       "       [-1.11004425,  0.57904166, -0.44935723,  0.69053085, -0.16865323]])"
      ]
     },
     "execution_count": 61,
     "metadata": {},
     "output_type": "execute_result"
    }
   ],
   "source": [
    "arr = np.random.randn(3, 5)\n",
    "arr"
   ]
  },
  {
   "cell_type": "code",
   "execution_count": 65,
   "metadata": {},
   "outputs": [
    {
     "name": "stdout",
     "output_type": "stream",
     "text": [
      "[[-2.35806284  0.69843576  1.29236703 -0.38477051 -0.47045283]\n",
      " [-1.11004425  0.64992132 -0.20709206 -1.12028215  0.45777332]\n",
      " [ 0.190402    0.57904166 -0.44935723  0.69053085 -0.16865323]]\n"
     ]
    }
   ],
   "source": [
    "arr[:,0].sort() # Sort first column values in-place\n",
    "print(arr)"
   ]
  },
  {
   "cell_type": "code",
   "execution_count": 67,
   "metadata": {},
   "outputs": [
    {
     "name": "stdout",
     "output_type": "stream",
     "text": [
      "[ 0.50174523  1.18946539  0.97111576 -1.00960813  0.50105687]\n",
      "[-1.00960813  0.50105687  0.50174523  0.97111576  1.18946539]\n",
      "[ 0.50174523  1.18946539  0.97111576 -1.00960813  0.50105687]\n"
     ]
    }
   ],
   "source": [
    "arr = np.random.randn(5)\n",
    "print(arr)\n",
    "\n",
    "sorted_arr = np.sort(arr)\n",
    "print(sorted_arr)\n",
    "print(arr)"
   ]
  },
  {
   "cell_type": "code",
   "execution_count": null,
   "metadata": {},
   "outputs": [],
   "source": []
  }
 ],
 "metadata": {
  "kernelspec": {
   "display_name": "base",
   "language": "python",
   "name": "python3"
  },
  "language_info": {
   "codemirror_mode": {
    "name": "ipython",
    "version": 3
   },
   "file_extension": ".py",
   "mimetype": "text/x-python",
   "name": "python",
   "nbconvert_exporter": "python",
   "pygments_lexer": "ipython3",
   "version": "3.12.4"
  }
 },
 "nbformat": 4,
 "nbformat_minor": 2
}
