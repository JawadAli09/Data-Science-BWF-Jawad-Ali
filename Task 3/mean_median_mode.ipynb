{
 "cells": [
  {
   "cell_type": "markdown",
   "metadata": {},
   "source": [
    "**Mean (Average)**: The mean is the sum of all values divided by the number of values.\n",
    "\n",
    "\\[\n",
    "\\text{Mean} = \\frac{\\sum x_i}{N}\n",
    "\\]\n",
    "\n",
    "where \\(x_i\\) are the data points and \\(N\\) is the number of points.\n",
    "\n",
    "---\n",
    "\n",
    "**Median**: The median is the middle value in a sorted list. If the list has an even number of items, the median is the average of the two middle numbers.\n",
    "\n",
    "---\n",
    "\n",
    "**Mode**: The mode is the value that appears most frequently in the data set. A data set may have one mode, more than one mode, or no mode at all.\n"
   ]
  },
  {
   "cell_type": "code",
   "execution_count": 1,
   "metadata": {},
   "outputs": [
    {
     "name": "stdout",
     "output_type": "stream",
     "text": [
      "Mean: 8\n",
      "Median: 9.0\n",
      "Mode: 10\n"
     ]
    }
   ],
   "source": [
    "import statistics\n",
    "\n",
    "# Example data\n",
    "data = [2, 3, 5, 7, 8, 9, 9, 10, 10, 10, 11, 12]\n",
    "\n",
    "# Calculating Mean\n",
    "mean_value = statistics.mean(data)\n",
    "print(\"Mean:\", mean_value)\n",
    "\n",
    "# Calculating Median\n",
    "median_value = statistics.median(data)\n",
    "print(\"Median:\", median_value)\n",
    "\n",
    "# Calculating Mode\n",
    "try:\n",
    "    mode_value = statistics.mode(data)\n",
    "    print(\"Mode:\", mode_value)\n",
    "except statistics.StatisticsError:\n",
    "    print(\"No mode found or multiple modes exist\")\n"
   ]
  },
  {
   "cell_type": "code",
   "execution_count": 2,
   "metadata": {},
   "outputs": [],
   "source": [
    "# Mean is calculated using statistics.mean().\n",
    "# Median is calculated using statistics.median(), which automatically handles both odd and even-length lists.\n",
    "# Mode is calculated using statistics.mode(). If there is no mode or there are multiple modes, a StatisticsError will be raised, which is caught in this case."
   ]
  },
  {
   "cell_type": "code",
   "execution_count": null,
   "metadata": {},
   "outputs": [],
   "source": []
  }
 ],
 "metadata": {
  "kernelspec": {
   "display_name": "base",
   "language": "python",
   "name": "python3"
  },
  "language_info": {
   "codemirror_mode": {
    "name": "ipython",
    "version": 3
   },
   "file_extension": ".py",
   "mimetype": "text/x-python",
   "name": "python",
   "nbconvert_exporter": "python",
   "pygments_lexer": "ipython3",
   "version": "3.12.4"
  }
 },
 "nbformat": 4,
 "nbformat_minor": 2
}
