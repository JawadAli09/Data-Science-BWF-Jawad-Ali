{
 "cells": [
  {
   "cell_type": "code",
   "execution_count": 1,
   "metadata": {},
   "outputs": [],
   "source": [
    "import torch\n",
    "import torch.nn as nn\n",
    "import torch.optim as optim"
   ]
  },
  {
   "cell_type": "markdown",
   "metadata": {},
   "source": [
    "### Defining a Custom Model\n",
    "To define a custom model in PyTorch, you typically create a class that inherits from nn.Module. Inside this class, you define the layers in the __init__ method and the forward pass in the forward method."
   ]
  },
  {
   "cell_type": "code",
   "execution_count": 2,
   "metadata": {},
   "outputs": [],
   "source": [
    "\n",
    "\n",
    "# Define the custom model\n",
    "class SimpleNN(nn.Module):\n",
    "    def __init__(self, input_size, hidden_size, output_size):\n",
    "        super(SimpleNN, self).__init__()\n",
    "        self.fc1 = nn.Linear(input_size, hidden_size)  # First fully connected layer\n",
    "        self.relu = nn.ReLU()  # ReLU activation function\n",
    "        self.fc2 = nn.Linear(hidden_size, output_size)  # Second fully connected layer\n",
    "\n",
    "    def forward(self, x):\n",
    "        out = self.fc1(x)  # Pass input through the first layer\n",
    "        out = self.relu(out)  \n",
    "        out = self.fc2(out)  \n",
    "        return out\n"
   ]
  },
  {
   "cell_type": "markdown",
   "metadata": {},
   "source": [
    "### Loss Function\n",
    "**Common Choices:**\n",
    "\n",
    "**nn.MSELoss:** Mean Squared Error Loss for regression tasks.\n",
    "\n",
    "nn.CrossEntropyLoss: Cross-Entropy Loss for classification tasks.\n",
    "### optimizer\n",
    "**Common Choices:**\n",
    "\n",
    "**optim.SGD:** Stochastic Gradient Descent.\n",
    "\n",
    "**optim.Adam:** Adaptive Moment Estimation, a popular choice for deep learning."
   ]
  },
  {
   "cell_type": "code",
   "execution_count": 3,
   "metadata": {},
   "outputs": [],
   "source": [
    "# Hyperparameters\n",
    "input_size = 10\n",
    "hidden_size = 5\n",
    "output_size = 1\n",
    "learning_rate = 0.001\n",
    "\n",
    "# Instantiate the model\n",
    "model = SimpleNN(input_size, hidden_size, output_size)\n",
    "\n",
    "# Define the loss function and optimizer\n",
    "criterion = nn.MSELoss()  # For regression\n",
    "optimizer = optim.Adam(model.parameters(), lr=learning_rate)\n"
   ]
  },
  {
   "cell_type": "markdown",
   "metadata": {},
   "source": [
    "### Preparing the Dataset\n",
    "Before training the model, you need to load and preprocess the data. PyTorch provides torch.utils.data.DataLoader for efficient data loading."
   ]
  },
  {
   "cell_type": "code",
   "execution_count": 5,
   "metadata": {},
   "outputs": [],
   "source": [
    "from torch.utils.data import DataLoader, TensorDataset\n",
    "\n",
    "# Generate some random data\n",
    "X_train = torch.randn(100, input_size)  \n",
    "y_train = torch.randn(100, output_size)  \n",
    "\n",
    "# Create a TensorDataset and DataLoader\n",
    "train_dataset = TensorDataset(X_train, y_train)\n",
    "train_loader = DataLoader(dataset=train_dataset, batch_size=10, shuffle=True)\n"
   ]
  },
  {
   "cell_type": "markdown",
   "metadata": {},
   "source": [
    "### Training the Model\n",
    "The training loop involves iterating over the dataset, performing a forward pass to compute predictions, calculating the loss, and performing a backward pass to update the model's parameters."
   ]
  },
  {
   "cell_type": "code",
   "execution_count": 6,
   "metadata": {},
   "outputs": [
    {
     "name": "stdout",
     "output_type": "stream",
     "text": [
      "Epoch [10/50], Loss: 1.3024\n",
      "Epoch [20/50], Loss: 1.2598\n",
      "Epoch [30/50], Loss: 1.0258\n",
      "Epoch [40/50], Loss: 0.9199\n",
      "Epoch [50/50], Loss: 1.7149\n"
     ]
    }
   ],
   "source": [
    "num_epochs = 50\n",
    "\n",
    "for epoch in range(num_epochs):\n",
    "    for inputs, targets in train_loader:\n",
    "        # Forward pass\n",
    "        outputs = model(inputs)\n",
    "        loss = criterion(outputs, targets)\n",
    "        \n",
    "        # Backward pass and optimization\n",
    "        optimizer.zero_grad()  # Clear the previous gradients\n",
    "        loss.backward()  # Compute new gradients\n",
    "        optimizer.step()  # Update the model parameters\n",
    "\n",
    "    if (epoch+1) % 10 == 0:\n",
    "        print(f'Epoch [{epoch+1}/{num_epochs}], Loss: {loss.item():.4f}')\n"
   ]
  },
  {
   "cell_type": "markdown",
   "metadata": {},
   "source": [
    "### Evaluating the Model\n",
    "After training, it’s important to evaluate the model’s performance on a separate validation or test set to ensure it generalizes well."
   ]
  },
  {
   "cell_type": "code",
   "execution_count": 8,
   "metadata": {},
   "outputs": [
    {
     "name": "stdout",
     "output_type": "stream",
     "text": [
      "Test Loss: 1.8048\n"
     ]
    }
   ],
   "source": [
    "model.eval()  \n",
    "with torch.no_grad():  \n",
    "    # Assume X_test and y_test are your test data\n",
    "    X_test = torch.randn(20, input_size)\n",
    "    y_test = torch.randn(20, output_size)\n",
    "    \n",
    "    predictions = model(X_test)\n",
    "    test_loss = criterion(predictions, y_test)\n",
    "    print(f'Test Loss: {test_loss.item():.4f}')\n"
   ]
  },
  {
   "cell_type": "markdown",
   "metadata": {},
   "source": [
    "### Saving and Loading the Model\n",
    "Once the model is trained, you can save its state for later use."
   ]
  },
  {
   "cell_type": "code",
   "execution_count": 9,
   "metadata": {},
   "outputs": [
    {
     "data": {
      "text/plain": [
       "SimpleNN(\n",
       "  (fc1): Linear(in_features=10, out_features=5, bias=True)\n",
       "  (relu): ReLU()\n",
       "  (fc2): Linear(in_features=5, out_features=1, bias=True)\n",
       ")"
      ]
     },
     "execution_count": 9,
     "metadata": {},
     "output_type": "execute_result"
    }
   ],
   "source": [
    "# Saving the model\n",
    "torch.save(model.state_dict(), 'model.pth')\n",
    "\n",
    "# Loading the model\n",
    "model = SimpleNN(input_size, hidden_size, output_size)\n",
    "model.load_state_dict(torch.load('model.pth'))\n",
    "model.eval()  \n"
   ]
  },
  {
   "cell_type": "markdown",
   "metadata": {},
   "source": [
    "### Summary\n",
    "Building and training custom models in PyTorch involves several key steps:\n",
    "\n",
    "**Defining the Model:** Use nn.Module to define your model architecture.\n",
    "\n",
    "**Choosing a Loss Function and Optimizer:** Select appropriate loss functions and optimizers for your task.\n",
    "\n",
    "**Preparing the Data:** Load and preprocess data using DataLoader.\n",
    "\n",
    "**Training the Model:** Write a training loop to update the model’s parameters.\n",
    "\n",
    "**Evaluating the Model:** Test the model’s performance on unseen data.\n",
    "\n",
    "**Saving and Loading Models:** Save the trained model for future use."
   ]
  },
  {
   "cell_type": "code",
   "execution_count": null,
   "metadata": {},
   "outputs": [],
   "source": []
  }
 ],
 "metadata": {
  "kernelspec": {
   "display_name": "base",
   "language": "python",
   "name": "python3"
  },
  "language_info": {
   "codemirror_mode": {
    "name": "ipython",
    "version": 3
   },
   "file_extension": ".py",
   "mimetype": "text/x-python",
   "name": "python",
   "nbconvert_exporter": "python",
   "pygments_lexer": "ipython3",
   "version": "3.12.4"
  }
 },
 "nbformat": 4,
 "nbformat_minor": 2
}
